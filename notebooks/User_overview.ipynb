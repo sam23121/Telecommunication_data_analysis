{
 "cells": [
  {
   "cell_type": "code",
   "execution_count": 74,
   "metadata": {},
   "outputs": [],
   "source": [
    "import pandas as pd\n",
    "import numpy as np"
   ]
  },
  {
   "cell_type": "code",
   "execution_count": 133,
   "metadata": {},
   "outputs": [],
   "source": [
    "import sys\n",
    "import os\n",
    "sys.path.append(os.path.abspath(os.path.join('../scripts')))\n",
    "\n",
    "import plot"
   ]
  },
  {
   "cell_type": "code",
   "execution_count": 2,
   "metadata": {},
   "outputs": [
    {
     "data": {
      "text/html": [
       "<div>\n",
       "<style scoped>\n",
       "    .dataframe tbody tr th:only-of-type {\n",
       "        vertical-align: middle;\n",
       "    }\n",
       "\n",
       "    .dataframe tbody tr th {\n",
       "        vertical-align: top;\n",
       "    }\n",
       "\n",
       "    .dataframe thead th {\n",
       "        text-align: right;\n",
       "    }\n",
       "</style>\n",
       "<table border=\"1\" class=\"dataframe\">\n",
       "  <thead>\n",
       "    <tr style=\"text-align: right;\">\n",
       "      <th></th>\n",
       "      <th>Unnamed: 0</th>\n",
       "      <th>Bearer Id</th>\n",
       "      <th>Start</th>\n",
       "      <th>Start ms</th>\n",
       "      <th>End</th>\n",
       "      <th>End ms</th>\n",
       "      <th>Dur. (ms)</th>\n",
       "      <th>IMSI</th>\n",
       "      <th>MSISDN/Number</th>\n",
       "      <th>IMEI</th>\n",
       "      <th>Last Location Name</th>\n",
       "      <th>Avg RTT DL (ms)</th>\n",
       "      <th>Avg RTT UL (ms)</th>\n",
       "      <th>Avg Bearer TP DL (kbps)</th>\n",
       "      <th>Avg Bearer TP UL (kbps)</th>\n",
       "      <th>DL TP &lt; 50 Kbps (%)</th>\n",
       "      <th>50 Kbps &lt; DL TP &lt; 250 Kbps (%)</th>\n",
       "      <th>250 Kbps &lt; DL TP &lt; 1 Mbps (%)</th>\n",
       "      <th>DL TP &gt; 1 Mbps (%)</th>\n",
       "      <th>UL TP &lt; 10 Kbps (%)</th>\n",
       "      <th>10 Kbps &lt; UL TP &lt; 50 Kbps (%)</th>\n",
       "      <th>50 Kbps &lt; UL TP &lt; 300 Kbps (%)</th>\n",
       "      <th>UL TP &gt; 300 Kbps (%)</th>\n",
       "      <th>Activity Duration DL (ms)</th>\n",
       "      <th>Activity Duration UL (ms)</th>\n",
       "      <th>Handset Manufacturer</th>\n",
       "      <th>Handset Type</th>\n",
       "      <th>Nb of sec with Vol DL &lt; 6250B</th>\n",
       "      <th>Nb of sec with Vol UL &lt; 1250B</th>\n",
       "      <th>Social Media DL (Bytes)</th>\n",
       "      <th>Social Media UL (Bytes)</th>\n",
       "      <th>Google DL (Bytes)</th>\n",
       "      <th>Google UL (Bytes)</th>\n",
       "      <th>Email DL (Bytes)</th>\n",
       "      <th>Email UL (Bytes)</th>\n",
       "      <th>Youtube DL (Bytes)</th>\n",
       "      <th>Youtube UL (Bytes)</th>\n",
       "      <th>Netflix DL (Bytes)</th>\n",
       "      <th>Netflix UL (Bytes)</th>\n",
       "      <th>Gaming DL (Bytes)</th>\n",
       "      <th>Gaming UL (Bytes)</th>\n",
       "      <th>Other DL (Bytes)</th>\n",
       "      <th>Other UL (Bytes)</th>\n",
       "      <th>Total UL (Bytes)</th>\n",
       "      <th>Total DL (Bytes)</th>\n",
       "    </tr>\n",
       "  </thead>\n",
       "  <tbody>\n",
       "    <tr>\n",
       "      <td>0</td>\n",
       "      <td>0</td>\n",
       "      <td>1.311448e+19</td>\n",
       "      <td>2019-04-04 12:01:00</td>\n",
       "      <td>770.0</td>\n",
       "      <td>2019-04-25 14:35:00</td>\n",
       "      <td>662.0</td>\n",
       "      <td>1823652.0</td>\n",
       "      <td>2.082014e+14</td>\n",
       "      <td>3.366496e+10</td>\n",
       "      <td>3.552121e+13</td>\n",
       "      <td>9.16456699548519E+015</td>\n",
       "      <td>42.0</td>\n",
       "      <td>5.0</td>\n",
       "      <td>23.0</td>\n",
       "      <td>44.0</td>\n",
       "      <td>100.0</td>\n",
       "      <td>0.0</td>\n",
       "      <td>0.0</td>\n",
       "      <td>0.0</td>\n",
       "      <td>100.0</td>\n",
       "      <td>0.0</td>\n",
       "      <td>0.0</td>\n",
       "      <td>0.0</td>\n",
       "      <td>37624.0</td>\n",
       "      <td>38787.0</td>\n",
       "      <td>Samsung</td>\n",
       "      <td>Samsung Galaxy A5 Sm-A520F</td>\n",
       "      <td>213.0</td>\n",
       "      <td>214.0</td>\n",
       "      <td>1.545765</td>\n",
       "      <td>0.024420</td>\n",
       "      <td>1.634479</td>\n",
       "      <td>1.271433</td>\n",
       "      <td>3.563542</td>\n",
       "      <td>0.137762</td>\n",
       "      <td>15.854611</td>\n",
       "      <td>2.501332</td>\n",
       "      <td>8.198936</td>\n",
       "      <td>9.656251</td>\n",
       "      <td>278.082303</td>\n",
       "      <td>14.344150</td>\n",
       "      <td>171.744450</td>\n",
       "      <td>8.814393</td>\n",
       "      <td>36.749741</td>\n",
       "      <td>308.879636</td>\n",
       "    </tr>\n",
       "    <tr>\n",
       "      <td>1</td>\n",
       "      <td>1</td>\n",
       "      <td>1.311448e+19</td>\n",
       "      <td>2019-04-09 13:04:00</td>\n",
       "      <td>235.0</td>\n",
       "      <td>2019-04-25 08:15:00</td>\n",
       "      <td>606.0</td>\n",
       "      <td>1365104.0</td>\n",
       "      <td>2.082019e+14</td>\n",
       "      <td>3.368185e+10</td>\n",
       "      <td>3.579401e+13</td>\n",
       "      <td>L77566A</td>\n",
       "      <td>65.0</td>\n",
       "      <td>5.0</td>\n",
       "      <td>16.0</td>\n",
       "      <td>26.0</td>\n",
       "      <td>100.0</td>\n",
       "      <td>0.0</td>\n",
       "      <td>0.0</td>\n",
       "      <td>0.0</td>\n",
       "      <td>100.0</td>\n",
       "      <td>0.0</td>\n",
       "      <td>0.0</td>\n",
       "      <td>0.0</td>\n",
       "      <td>168.0</td>\n",
       "      <td>3560.0</td>\n",
       "      <td>Samsung</td>\n",
       "      <td>Samsung Galaxy J5 (Sm-J530)</td>\n",
       "      <td>971.0</td>\n",
       "      <td>1022.0</td>\n",
       "      <td>1.926113</td>\n",
       "      <td>0.007165</td>\n",
       "      <td>3.493924</td>\n",
       "      <td>0.920172</td>\n",
       "      <td>0.629046</td>\n",
       "      <td>0.308339</td>\n",
       "      <td>20.247395</td>\n",
       "      <td>19.111729</td>\n",
       "      <td>18.338413</td>\n",
       "      <td>17.227132</td>\n",
       "      <td>608.750074</td>\n",
       "      <td>1.170709</td>\n",
       "      <td>526.904238</td>\n",
       "      <td>15.055145</td>\n",
       "      <td>53.800391</td>\n",
       "      <td>653.384965</td>\n",
       "    </tr>\n",
       "    <tr>\n",
       "      <td>2</td>\n",
       "      <td>2</td>\n",
       "      <td>1.311448e+19</td>\n",
       "      <td>2019-04-09 17:42:00</td>\n",
       "      <td>1.0</td>\n",
       "      <td>2019-04-25 11:58:00</td>\n",
       "      <td>652.0</td>\n",
       "      <td>1361762.0</td>\n",
       "      <td>2.082003e+14</td>\n",
       "      <td>3.376063e+10</td>\n",
       "      <td>3.528151e+13</td>\n",
       "      <td>D42335A</td>\n",
       "      <td>45.0</td>\n",
       "      <td>5.0</td>\n",
       "      <td>6.0</td>\n",
       "      <td>9.0</td>\n",
       "      <td>100.0</td>\n",
       "      <td>0.0</td>\n",
       "      <td>0.0</td>\n",
       "      <td>0.0</td>\n",
       "      <td>100.0</td>\n",
       "      <td>0.0</td>\n",
       "      <td>0.0</td>\n",
       "      <td>0.0</td>\n",
       "      <td>0.0</td>\n",
       "      <td>0.0</td>\n",
       "      <td>Samsung</td>\n",
       "      <td>Samsung Galaxy A8 (2018)</td>\n",
       "      <td>751.0</td>\n",
       "      <td>695.0</td>\n",
       "      <td>1.684053</td>\n",
       "      <td>0.042224</td>\n",
       "      <td>8.535055</td>\n",
       "      <td>1.694064</td>\n",
       "      <td>2.690151</td>\n",
       "      <td>0.672973</td>\n",
       "      <td>19.725661</td>\n",
       "      <td>14.699576</td>\n",
       "      <td>17.587794</td>\n",
       "      <td>6.163408</td>\n",
       "      <td>229.584621</td>\n",
       "      <td>0.395630</td>\n",
       "      <td>410.692588</td>\n",
       "      <td>4.215763</td>\n",
       "      <td>27.883638</td>\n",
       "      <td>279.807335</td>\n",
       "    </tr>\n",
       "    <tr>\n",
       "      <td>3</td>\n",
       "      <td>3</td>\n",
       "      <td>1.311448e+19</td>\n",
       "      <td>2019-04-10 00:31:00</td>\n",
       "      <td>486.0</td>\n",
       "      <td>2019-04-25 07:36:00</td>\n",
       "      <td>171.0</td>\n",
       "      <td>1321509.0</td>\n",
       "      <td>2.082014e+14</td>\n",
       "      <td>3.375034e+10</td>\n",
       "      <td>3.535661e+13</td>\n",
       "      <td>T21824A</td>\n",
       "      <td>45.0</td>\n",
       "      <td>5.0</td>\n",
       "      <td>44.0</td>\n",
       "      <td>44.0</td>\n",
       "      <td>100.0</td>\n",
       "      <td>0.0</td>\n",
       "      <td>0.0</td>\n",
       "      <td>0.0</td>\n",
       "      <td>100.0</td>\n",
       "      <td>0.0</td>\n",
       "      <td>0.0</td>\n",
       "      <td>0.0</td>\n",
       "      <td>3330.0</td>\n",
       "      <td>37882.0</td>\n",
       "      <td>undefined</td>\n",
       "      <td>undefined</td>\n",
       "      <td>17.0</td>\n",
       "      <td>207.0</td>\n",
       "      <td>0.644121</td>\n",
       "      <td>0.013372</td>\n",
       "      <td>9.023734</td>\n",
       "      <td>2.788027</td>\n",
       "      <td>1.439754</td>\n",
       "      <td>0.631229</td>\n",
       "      <td>21.388122</td>\n",
       "      <td>15.146643</td>\n",
       "      <td>13.994646</td>\n",
       "      <td>1.097942</td>\n",
       "      <td>799.538153</td>\n",
       "      <td>10.849722</td>\n",
       "      <td>749.039933</td>\n",
       "      <td>12.797283</td>\n",
       "      <td>43.324218</td>\n",
       "      <td>846.028530</td>\n",
       "    </tr>\n",
       "    <tr>\n",
       "      <td>4</td>\n",
       "      <td>4</td>\n",
       "      <td>1.311448e+19</td>\n",
       "      <td>2019-04-12 20:10:00</td>\n",
       "      <td>565.0</td>\n",
       "      <td>2019-04-25 10:40:00</td>\n",
       "      <td>954.0</td>\n",
       "      <td>1089009.0</td>\n",
       "      <td>2.082014e+14</td>\n",
       "      <td>3.369980e+10</td>\n",
       "      <td>3.540701e+13</td>\n",
       "      <td>D88865A</td>\n",
       "      <td>45.0</td>\n",
       "      <td>5.0</td>\n",
       "      <td>6.0</td>\n",
       "      <td>9.0</td>\n",
       "      <td>100.0</td>\n",
       "      <td>0.0</td>\n",
       "      <td>0.0</td>\n",
       "      <td>0.0</td>\n",
       "      <td>100.0</td>\n",
       "      <td>0.0</td>\n",
       "      <td>0.0</td>\n",
       "      <td>0.0</td>\n",
       "      <td>0.0</td>\n",
       "      <td>0.0</td>\n",
       "      <td>Samsung</td>\n",
       "      <td>Samsung Sm-G390F</td>\n",
       "      <td>607.0</td>\n",
       "      <td>604.0</td>\n",
       "      <td>0.862600</td>\n",
       "      <td>0.050188</td>\n",
       "      <td>6.248284</td>\n",
       "      <td>1.500559</td>\n",
       "      <td>1.936496</td>\n",
       "      <td>0.173853</td>\n",
       "      <td>15.259380</td>\n",
       "      <td>18.962873</td>\n",
       "      <td>17.124581</td>\n",
       "      <td>0.415218</td>\n",
       "      <td>527.707248</td>\n",
       "      <td>3.529801</td>\n",
       "      <td>550.709500</td>\n",
       "      <td>13.910322</td>\n",
       "      <td>38.542814</td>\n",
       "      <td>569.138589</td>\n",
       "    </tr>\n",
       "  </tbody>\n",
       "</table>\n",
       "</div>"
      ],
      "text/plain": [
       "   Unnamed: 0     Bearer Id                Start  Start ms  \\\n",
       "0           0  1.311448e+19  2019-04-04 12:01:00     770.0   \n",
       "1           1  1.311448e+19  2019-04-09 13:04:00     235.0   \n",
       "2           2  1.311448e+19  2019-04-09 17:42:00       1.0   \n",
       "3           3  1.311448e+19  2019-04-10 00:31:00     486.0   \n",
       "4           4  1.311448e+19  2019-04-12 20:10:00     565.0   \n",
       "\n",
       "                   End  End ms  Dur. (ms)          IMSI  MSISDN/Number  \\\n",
       "0  2019-04-25 14:35:00   662.0  1823652.0  2.082014e+14   3.366496e+10   \n",
       "1  2019-04-25 08:15:00   606.0  1365104.0  2.082019e+14   3.368185e+10   \n",
       "2  2019-04-25 11:58:00   652.0  1361762.0  2.082003e+14   3.376063e+10   \n",
       "3  2019-04-25 07:36:00   171.0  1321509.0  2.082014e+14   3.375034e+10   \n",
       "4  2019-04-25 10:40:00   954.0  1089009.0  2.082014e+14   3.369980e+10   \n",
       "\n",
       "           IMEI     Last Location Name  Avg RTT DL (ms)  Avg RTT UL (ms)  \\\n",
       "0  3.552121e+13  9.16456699548519E+015             42.0              5.0   \n",
       "1  3.579401e+13                L77566A             65.0              5.0   \n",
       "2  3.528151e+13                D42335A             45.0              5.0   \n",
       "3  3.535661e+13                T21824A             45.0              5.0   \n",
       "4  3.540701e+13                D88865A             45.0              5.0   \n",
       "\n",
       "   Avg Bearer TP DL (kbps)  Avg Bearer TP UL (kbps)  DL TP < 50 Kbps (%)  \\\n",
       "0                     23.0                     44.0                100.0   \n",
       "1                     16.0                     26.0                100.0   \n",
       "2                      6.0                      9.0                100.0   \n",
       "3                     44.0                     44.0                100.0   \n",
       "4                      6.0                      9.0                100.0   \n",
       "\n",
       "   50 Kbps < DL TP < 250 Kbps (%)  250 Kbps < DL TP < 1 Mbps (%)  \\\n",
       "0                             0.0                            0.0   \n",
       "1                             0.0                            0.0   \n",
       "2                             0.0                            0.0   \n",
       "3                             0.0                            0.0   \n",
       "4                             0.0                            0.0   \n",
       "\n",
       "   DL TP > 1 Mbps (%)  UL TP < 10 Kbps (%)  10 Kbps < UL TP < 50 Kbps (%)  \\\n",
       "0                 0.0                100.0                            0.0   \n",
       "1                 0.0                100.0                            0.0   \n",
       "2                 0.0                100.0                            0.0   \n",
       "3                 0.0                100.0                            0.0   \n",
       "4                 0.0                100.0                            0.0   \n",
       "\n",
       "   50 Kbps < UL TP < 300 Kbps (%)  UL TP > 300 Kbps (%)  \\\n",
       "0                             0.0                   0.0   \n",
       "1                             0.0                   0.0   \n",
       "2                             0.0                   0.0   \n",
       "3                             0.0                   0.0   \n",
       "4                             0.0                   0.0   \n",
       "\n",
       "   Activity Duration DL (ms)  Activity Duration UL (ms) Handset Manufacturer  \\\n",
       "0                    37624.0                    38787.0              Samsung   \n",
       "1                      168.0                     3560.0              Samsung   \n",
       "2                        0.0                        0.0              Samsung   \n",
       "3                     3330.0                    37882.0            undefined   \n",
       "4                        0.0                        0.0              Samsung   \n",
       "\n",
       "                  Handset Type  Nb of sec with Vol DL < 6250B  \\\n",
       "0   Samsung Galaxy A5 Sm-A520F                          213.0   \n",
       "1  Samsung Galaxy J5 (Sm-J530)                          971.0   \n",
       "2     Samsung Galaxy A8 (2018)                          751.0   \n",
       "3                    undefined                           17.0   \n",
       "4             Samsung Sm-G390F                          607.0   \n",
       "\n",
       "   Nb of sec with Vol UL < 1250B  Social Media DL (Bytes)  \\\n",
       "0                          214.0                 1.545765   \n",
       "1                         1022.0                 1.926113   \n",
       "2                          695.0                 1.684053   \n",
       "3                          207.0                 0.644121   \n",
       "4                          604.0                 0.862600   \n",
       "\n",
       "   Social Media UL (Bytes)  Google DL (Bytes)  Google UL (Bytes)  \\\n",
       "0                 0.024420           1.634479           1.271433   \n",
       "1                 0.007165           3.493924           0.920172   \n",
       "2                 0.042224           8.535055           1.694064   \n",
       "3                 0.013372           9.023734           2.788027   \n",
       "4                 0.050188           6.248284           1.500559   \n",
       "\n",
       "   Email DL (Bytes)  Email UL (Bytes)  Youtube DL (Bytes)  Youtube UL (Bytes)  \\\n",
       "0          3.563542          0.137762           15.854611            2.501332   \n",
       "1          0.629046          0.308339           20.247395           19.111729   \n",
       "2          2.690151          0.672973           19.725661           14.699576   \n",
       "3          1.439754          0.631229           21.388122           15.146643   \n",
       "4          1.936496          0.173853           15.259380           18.962873   \n",
       "\n",
       "   Netflix DL (Bytes)  Netflix UL (Bytes)  Gaming DL (Bytes)  \\\n",
       "0            8.198936            9.656251         278.082303   \n",
       "1           18.338413           17.227132         608.750074   \n",
       "2           17.587794            6.163408         229.584621   \n",
       "3           13.994646            1.097942         799.538153   \n",
       "4           17.124581            0.415218         527.707248   \n",
       "\n",
       "   Gaming UL (Bytes)  Other DL (Bytes)  Other UL (Bytes)  Total UL (Bytes)  \\\n",
       "0          14.344150        171.744450          8.814393         36.749741   \n",
       "1           1.170709        526.904238         15.055145         53.800391   \n",
       "2           0.395630        410.692588          4.215763         27.883638   \n",
       "3          10.849722        749.039933         12.797283         43.324218   \n",
       "4           3.529801        550.709500         13.910322         38.542814   \n",
       "\n",
       "   Total DL (Bytes)  \n",
       "0        308.879636  \n",
       "1        653.384965  \n",
       "2        279.807335  \n",
       "3        846.028530  \n",
       "4        569.138589  "
      ]
     },
     "execution_count": 2,
     "metadata": {},
     "output_type": "execute_result"
    }
   ],
   "source": [
    "import warnings\n",
    "warnings.filterwarnings('ignore')\n",
    "pd.set_option('max_column', None)\n",
    "db = pd.read_csv(r'C:\\Users\\sam\\Desktop\\Telecommunication_data_analysis\\data\\cleaned_data.csv', engine = 'python')\n",
    "db.head()"
   ]
  },
  {
   "cell_type": "code",
   "execution_count": 4,
   "metadata": {},
   "outputs": [
    {
     "name": "stdout",
     "output_type": "stream",
     "text": [
      "<class 'pandas.core.frame.DataFrame'>\n",
      "RangeIndex: 148346 entries, 0 to 148345\n",
      "Data columns (total 45 columns):\n",
      "Unnamed: 0                        148346 non-null int64\n",
      "Bearer Id                         148346 non-null float64\n",
      "Start                             148346 non-null object\n",
      "Start ms                          148346 non-null float64\n",
      "End                               148346 non-null object\n",
      "End ms                            148346 non-null float64\n",
      "Dur. (ms)                         148346 non-null float64\n",
      "IMSI                              148346 non-null float64\n",
      "MSISDN/Number                     148346 non-null float64\n",
      "IMEI                              148346 non-null float64\n",
      "Last Location Name                148346 non-null object\n",
      "Avg RTT DL (ms)                   148346 non-null float64\n",
      "Avg RTT UL (ms)                   148346 non-null float64\n",
      "Avg Bearer TP DL (kbps)           148346 non-null float64\n",
      "Avg Bearer TP UL (kbps)           148346 non-null float64\n",
      "DL TP < 50 Kbps (%)               148346 non-null float64\n",
      "50 Kbps < DL TP < 250 Kbps (%)    148346 non-null float64\n",
      "250 Kbps < DL TP < 1 Mbps (%)     148346 non-null float64\n",
      "DL TP > 1 Mbps (%)                148346 non-null float64\n",
      "UL TP < 10 Kbps (%)               148346 non-null float64\n",
      "10 Kbps < UL TP < 50 Kbps (%)     148346 non-null float64\n",
      "50 Kbps < UL TP < 300 Kbps (%)    148346 non-null float64\n",
      "UL TP > 300 Kbps (%)              148346 non-null float64\n",
      "Activity Duration DL (ms)         148346 non-null float64\n",
      "Activity Duration UL (ms)         148346 non-null float64\n",
      "Handset Manufacturer              148346 non-null object\n",
      "Handset Type                      148346 non-null object\n",
      "Nb of sec with Vol DL < 6250B     148346 non-null float64\n",
      "Nb of sec with Vol UL < 1250B     148346 non-null float64\n",
      "Social Media DL (Bytes)           148346 non-null float64\n",
      "Social Media UL (Bytes)           148346 non-null float64\n",
      "Google DL (Bytes)                 148346 non-null float64\n",
      "Google UL (Bytes)                 148346 non-null float64\n",
      "Email DL (Bytes)                  148346 non-null float64\n",
      "Email UL (Bytes)                  148346 non-null float64\n",
      "Youtube DL (Bytes)                148346 non-null float64\n",
      "Youtube UL (Bytes)                148346 non-null float64\n",
      "Netflix DL (Bytes)                148346 non-null float64\n",
      "Netflix UL (Bytes)                148346 non-null float64\n",
      "Gaming DL (Bytes)                 148346 non-null float64\n",
      "Gaming UL (Bytes)                 148346 non-null float64\n",
      "Other DL (Bytes)                  148346 non-null float64\n",
      "Other UL (Bytes)                  148346 non-null float64\n",
      "Total UL (Bytes)                  148346 non-null float64\n",
      "Total DL (Bytes)                  148346 non-null float64\n",
      "dtypes: float64(39), int64(1), object(5)\n",
      "memory usage: 50.9+ MB\n"
     ]
    }
   ],
   "source": [
    "db.info()"
   ]
  },
  {
   "cell_type": "code",
   "execution_count": 10,
   "metadata": {},
   "outputs": [],
   "source": [
    "df = db"
   ]
  },
  {
   "cell_type": "code",
   "execution_count": 43,
   "metadata": {},
   "outputs": [
    {
     "name": "stdout",
     "output_type": "stream",
     "text": [
      "\n",
      "Number of unique values of handset types=> 1390\n"
     ]
    }
   ],
   "source": [
    "print('\\nNumber of unique values of handset types=> ' + str(len(df['Handset Type'].unique())))"
   ]
  },
  {
   "cell_type": "code",
   "execution_count": 44,
   "metadata": {},
   "outputs": [
    {
     "name": "stdout",
     "output_type": "stream",
     "text": [
      "\n",
      "Number of unique values of Handset Manufacturer=> 170\n"
     ]
    }
   ],
   "source": [
    "print('\\nNumber of unique values of Handset Manufacturer=> ' + str(len(df['Handset Manufacturer'].unique())))"
   ]
  },
  {
   "cell_type": "code",
   "execution_count": null,
   "metadata": {},
   "outputs": [],
   "source": [
    "print('\\nNumber of unique values of Handset Manufacturer=> ' + str(len(df['Handset Manufacturer'].unique().sort_values(ascending=True)[0])))"
   ]
  },
  {
   "cell_type": "code",
   "execution_count": 59,
   "metadata": {},
   "outputs": [
    {
     "name": "stdout",
     "output_type": "stream",
     "text": [
      "\n",
      "Unique values are => Handset Manufacturer\n",
      "\n",
      "Apple      59304\n",
      "Samsung    40393\n",
      "Huawei     34269\n",
      "Name: Handset Manufacturer, dtype: int64\n"
     ]
    }
   ],
   "source": [
    "print('\\nUnique values are => Handset Manufacturer\\n\\n' + str(pd.Series(df['Handset Manufacturer'].value_counts()).head()[0:3]))"
   ]
  },
  {
   "cell_type": "code",
   "execution_count": 36,
   "metadata": {},
   "outputs": [
    {
     "name": "stdout",
     "output_type": "stream",
     "text": [
      "\n",
      "Frequency distribution of unique values => \n",
      "\n",
      "Huawei B528S-23A                             19724\n",
      "Apple iPhone 6S (A1688)                       9391\n",
      "Apple iPhone 6 (A1586)                        8991\n",
      "undefined                                     8892\n",
      "Apple iPhone 7 (A1778)                        6274\n",
      "                                             ...  \n",
      "Samsung Galaxy S9 Sm-G960N                       1\n",
      "Samsung Galaxy Mobile (E.G. A3Lschi535)          1\n",
      "Option Nv Option Gtm661W Globesurfer Iii+        1\n",
      "Sony Ericsson Sk17I                              1\n",
      "Ovvi-Cellphone T. Echo                           1\n",
      "Name: Handset Type, Length: 1390, dtype: int64\n"
     ]
    }
   ],
   "source": [
    "print('\\nFrequency distribution of unique values => \\n\\n'+ str(df['Handset Type'].value_counts(dropna=False).sort_values(ascending = False)))"
   ]
  },
  {
   "cell_type": "code",
   "execution_count": 24,
   "metadata": {},
   "outputs": [
    {
     "data": {
      "text/plain": [
       "Huawei B528S-23A                19724\n",
       "Apple iPhone 6S (A1688)          9391\n",
       "Apple iPhone 6 (A1586)           8991\n",
       "undefined                        8892\n",
       "Apple iPhone 7 (A1778)           6274\n",
       "Apple iPhone Se (A1723)          5165\n",
       "Apple iPhone 8 (A1905)           4977\n",
       "Apple iPhone Xr (A2105)          4555\n",
       "Samsung Galaxy S8 (Sm-G950F)     4459\n",
       "Apple iPhone X (A1901)           3805\n",
       "Name: Handset Type, dtype: int64"
      ]
     },
     "execution_count": 24,
     "metadata": {},
     "output_type": "execute_result"
    }
   ],
   "source": [
    "df['Handset Type'].value_counts().head(10)"
   ]
  },
  {
   "cell_type": "code",
   "execution_count": 32,
   "metadata": {},
   "outputs": [
    {
     "data": {
      "text/plain": [
       "Apple      59304\n",
       "Samsung    40393\n",
       "Huawei     34269\n",
       "Name: Handset Manufacturer, dtype: int64"
      ]
     },
     "execution_count": 32,
     "metadata": {},
     "output_type": "execute_result"
    }
   ],
   "source": [
    "df['Handset Manufacturer'].value_counts().head(3)"
   ]
  },
  {
   "cell_type": "code",
   "execution_count": 65,
   "metadata": {},
   "outputs": [],
   "source": [
    "import seaborn as sns\n",
    "from matplotlib import pyplot as plt\n",
    "def plot_count(df:pd.DataFrame, column:str) -> None:\n",
    "    plt.figure(figsize=(12, 7))\n",
    "    sns.countplot(data=df, x=column)\n",
    "    plt.title(f'Distribution of {column}', size=20, fontweight='bold')\n",
    "    plt.show()"
   ]
  },
  {
   "cell_type": "code",
   "execution_count": 67,
   "metadata": {},
   "outputs": [
    {
     "data": {
      "image/png": "[encoded data removed]",
      "text/plain": [
       "<Figure size 864x504 with 1 Axes>"
      ]
     },
     "metadata": {
      "needs_background": "light"
     },
     "output_type": "display_data"
    }
   ],
   "source": [
    "plot_count(df2, \"Handset Manufacturer\")"
   ]
  },
  {
   "cell_type": "code",
   "execution_count": 30,
   "metadata": {},
   "outputs": [
    {
     "data": {
      "text/plain": [
       "Apple      59304\n",
       "Samsung    40393\n",
       "Huawei     34269\n",
       "Name: Handset Manufacturer, dtype: int64"
      ]
     },
     "execution_count": 30,
     "metadata": {},
     "output_type": "execute_result"
    }
   ],
   "source": [
    "a = [df['Handset Manufacturer'].value_counts().head(3) if df['Handset Manufacturer']\n",
    "a"
   ]
  },
  {
   "cell_type": "code",
   "execution_count": 61,
   "metadata": {},
   "outputs": [],
   "source": [
    "options = ['Apple', 'Samsung', 'Huawei']  \n",
    "df2 =df[df['Handset Manufacturer'].isin(options)]\n"
   ]
  },
  {
   "cell_type": "code",
   "execution_count": 68,
   "metadata": {},
   "outputs": [
    {
     "data": {
      "image/png": "[encoded data removed]",
      "text/plain": [
       "<Figure size 864x504 with 1 Axes>"
      ]
     },
     "metadata": {
      "needs_background": "light"
     },
     "output_type": "display_data"
    }
   ],
   "source": [
    "plot_count(df2, \"Handset Manufacturer\")"
   ]
  },
  {
   "cell_type": "code",
   "execution_count": 62,
   "metadata": {},
   "outputs": [
    {
     "data": {
      "text/plain": [
       "Huawei B528S-23A           19724\n",
       "Apple iPhone 6S (A1688)     9391\n",
       "Apple iPhone 6 (A1586)      8991\n",
       "Apple iPhone 7 (A1778)      6274\n",
       "Apple iPhone Se (A1723)     5165\n",
       "Name: Handset Type, dtype: int64"
      ]
     },
     "execution_count": 62,
     "metadata": {},
     "output_type": "execute_result"
    }
   ],
   "source": [
    "df2['Handset Type'].value_counts().head(5)"
   ]
  },
  {
   "cell_type": "code",
   "execution_count": null,
   "metadata": {},
   "outputs": [],
   "source": []
  },
  {
   "cell_type": "markdown",
   "metadata": {},
   "source": [
    "- for our customers the dominating Handset manufactuers are Apple, Samsung, Huawei respectively\n",
    "- but for handset type Huawei B528S-23A is by for the most used device amoung customers\n",
    "- so targeting apple users more will benefit the most"
   ]
  },
  {
   "cell_type": "code",
   "execution_count": 71,
   "metadata": {},
   "outputs": [],
   "source": [
    "df3 = df[['Unnamed: 0','Dur. (ms)','Social Media DL (Bytes)','Social Media UL (Bytes)','Google DL (Bytes)','Google UL (Bytes)','Email DL (Bytes)',\n",
    "       'Email UL (Bytes)', 'Youtube DL (Bytes)', 'Youtube UL (Bytes)', 'Netflix DL (Bytes)','Netflix UL (Bytes)','Gaming DL (Bytes)',\n",
    "       'Gaming UL (Bytes)','Other DL (Bytes)', 'Other UL (Bytes)', 'Total UL (Bytes)', 'Total DL (Bytes)',]]"
   ]
  },
  {
   "cell_type": "code",
   "execution_count": 72,
   "metadata": {},
   "outputs": [
    {
     "data": {
      "text/html": [
       "<div>\n",
       "<style scoped>\n",
       "    .dataframe tbody tr th:only-of-type {\n",
       "        vertical-align: middle;\n",
       "    }\n",
       "\n",
       "    .dataframe tbody tr th {\n",
       "        vertical-align: top;\n",
       "    }\n",
       "\n",
       "    .dataframe thead th {\n",
       "        text-align: right;\n",
       "    }\n",
       "</style>\n",
       "<table border=\"1\" class=\"dataframe\">\n",
       "  <thead>\n",
       "    <tr style=\"text-align: right;\">\n",
       "      <th></th>\n",
       "      <th>Unnamed: 0</th>\n",
       "      <th>Dur. (ms)</th>\n",
       "      <th>Social Media DL (Bytes)</th>\n",
       "      <th>Social Media UL (Bytes)</th>\n",
       "      <th>Google DL (Bytes)</th>\n",
       "      <th>Google UL (Bytes)</th>\n",
       "      <th>Email DL (Bytes)</th>\n",
       "      <th>Email UL (Bytes)</th>\n",
       "      <th>Youtube DL (Bytes)</th>\n",
       "      <th>Youtube UL (Bytes)</th>\n",
       "      <th>Netflix DL (Bytes)</th>\n",
       "      <th>Netflix UL (Bytes)</th>\n",
       "      <th>Gaming DL (Bytes)</th>\n",
       "      <th>Gaming UL (Bytes)</th>\n",
       "      <th>Other DL (Bytes)</th>\n",
       "      <th>Other UL (Bytes)</th>\n",
       "      <th>Total UL (Bytes)</th>\n",
       "      <th>Total DL (Bytes)</th>\n",
       "    </tr>\n",
       "  </thead>\n",
       "  <tbody>\n",
       "    <tr>\n",
       "      <td>0</td>\n",
       "      <td>0</td>\n",
       "      <td>1823652.0</td>\n",
       "      <td>1.545765</td>\n",
       "      <td>0.024420</td>\n",
       "      <td>1.634479</td>\n",
       "      <td>1.271433</td>\n",
       "      <td>3.563542</td>\n",
       "      <td>0.137762</td>\n",
       "      <td>15.854611</td>\n",
       "      <td>2.501332</td>\n",
       "      <td>8.198936</td>\n",
       "      <td>9.656251</td>\n",
       "      <td>278.082303</td>\n",
       "      <td>14.344150</td>\n",
       "      <td>171.744450</td>\n",
       "      <td>8.814393</td>\n",
       "      <td>36.749741</td>\n",
       "      <td>308.879636</td>\n",
       "    </tr>\n",
       "    <tr>\n",
       "      <td>1</td>\n",
       "      <td>1</td>\n",
       "      <td>1365104.0</td>\n",
       "      <td>1.926113</td>\n",
       "      <td>0.007165</td>\n",
       "      <td>3.493924</td>\n",
       "      <td>0.920172</td>\n",
       "      <td>0.629046</td>\n",
       "      <td>0.308339</td>\n",
       "      <td>20.247395</td>\n",
       "      <td>19.111729</td>\n",
       "      <td>18.338413</td>\n",
       "      <td>17.227132</td>\n",
       "      <td>608.750074</td>\n",
       "      <td>1.170709</td>\n",
       "      <td>526.904238</td>\n",
       "      <td>15.055145</td>\n",
       "      <td>53.800391</td>\n",
       "      <td>653.384965</td>\n",
       "    </tr>\n",
       "    <tr>\n",
       "      <td>2</td>\n",
       "      <td>2</td>\n",
       "      <td>1361762.0</td>\n",
       "      <td>1.684053</td>\n",
       "      <td>0.042224</td>\n",
       "      <td>8.535055</td>\n",
       "      <td>1.694064</td>\n",
       "      <td>2.690151</td>\n",
       "      <td>0.672973</td>\n",
       "      <td>19.725661</td>\n",
       "      <td>14.699576</td>\n",
       "      <td>17.587794</td>\n",
       "      <td>6.163408</td>\n",
       "      <td>229.584621</td>\n",
       "      <td>0.395630</td>\n",
       "      <td>410.692588</td>\n",
       "      <td>4.215763</td>\n",
       "      <td>27.883638</td>\n",
       "      <td>279.807335</td>\n",
       "    </tr>\n",
       "    <tr>\n",
       "      <td>3</td>\n",
       "      <td>3</td>\n",
       "      <td>1321509.0</td>\n",
       "      <td>0.644121</td>\n",
       "      <td>0.013372</td>\n",
       "      <td>9.023734</td>\n",
       "      <td>2.788027</td>\n",
       "      <td>1.439754</td>\n",
       "      <td>0.631229</td>\n",
       "      <td>21.388122</td>\n",
       "      <td>15.146643</td>\n",
       "      <td>13.994646</td>\n",
       "      <td>1.097942</td>\n",
       "      <td>799.538153</td>\n",
       "      <td>10.849722</td>\n",
       "      <td>749.039933</td>\n",
       "      <td>12.797283</td>\n",
       "      <td>43.324218</td>\n",
       "      <td>846.028530</td>\n",
       "    </tr>\n",
       "    <tr>\n",
       "      <td>4</td>\n",
       "      <td>4</td>\n",
       "      <td>1089009.0</td>\n",
       "      <td>0.862600</td>\n",
       "      <td>0.050188</td>\n",
       "      <td>6.248284</td>\n",
       "      <td>1.500559</td>\n",
       "      <td>1.936496</td>\n",
       "      <td>0.173853</td>\n",
       "      <td>15.259380</td>\n",
       "      <td>18.962873</td>\n",
       "      <td>17.124581</td>\n",
       "      <td>0.415218</td>\n",
       "      <td>527.707248</td>\n",
       "      <td>3.529801</td>\n",
       "      <td>550.709500</td>\n",
       "      <td>13.910322</td>\n",
       "      <td>38.542814</td>\n",
       "      <td>569.138589</td>\n",
       "    </tr>\n",
       "  </tbody>\n",
       "</table>\n",
       "</div>"
      ],
      "text/plain": [
       "   Unnamed: 0  Dur. (ms)  Social Media DL (Bytes)  Social Media UL (Bytes)  \\\n",
       "0           0  1823652.0                 1.545765                 0.024420   \n",
       "1           1  1365104.0                 1.926113                 0.007165   \n",
       "2           2  1361762.0                 1.684053                 0.042224   \n",
       "3           3  1321509.0                 0.644121                 0.013372   \n",
       "4           4  1089009.0                 0.862600                 0.050188   \n",
       "\n",
       "   Google DL (Bytes)  Google UL (Bytes)  Email DL (Bytes)  Email UL (Bytes)  \\\n",
       "0           1.634479           1.271433          3.563542          0.137762   \n",
       "1           3.493924           0.920172          0.629046          0.308339   \n",
       "2           8.535055           1.694064          2.690151          0.672973   \n",
       "3           9.023734           2.788027          1.439754          0.631229   \n",
       "4           6.248284           1.500559          1.936496          0.173853   \n",
       "\n",
       "   Youtube DL (Bytes)  Youtube UL (Bytes)  Netflix DL (Bytes)  \\\n",
       "0           15.854611            2.501332            8.198936   \n",
       "1           20.247395           19.111729           18.338413   \n",
       "2           19.725661           14.699576           17.587794   \n",
       "3           21.388122           15.146643           13.994646   \n",
       "4           15.259380           18.962873           17.124581   \n",
       "\n",
       "   Netflix UL (Bytes)  Gaming DL (Bytes)  Gaming UL (Bytes)  Other DL (Bytes)  \\\n",
       "0            9.656251         278.082303          14.344150        171.744450   \n",
       "1           17.227132         608.750074           1.170709        526.904238   \n",
       "2            6.163408         229.584621           0.395630        410.692588   \n",
       "3            1.097942         799.538153          10.849722        749.039933   \n",
       "4            0.415218         527.707248           3.529801        550.709500   \n",
       "\n",
       "   Other UL (Bytes)  Total UL (Bytes)  Total DL (Bytes)  \n",
       "0          8.814393         36.749741        308.879636  \n",
       "1         15.055145         53.800391        653.384965  \n",
       "2          4.215763         27.883638        279.807335  \n",
       "3         12.797283         43.324218        846.028530  \n",
       "4         13.910322         38.542814        569.138589  "
      ]
     },
     "execution_count": 72,
     "metadata": {},
     "output_type": "execute_result"
    }
   ],
   "source": [
    "df3.head()"
   ]
  },
  {
   "cell_type": "code",
   "execution_count": 80,
   "metadata": {},
   "outputs": [],
   "source": [
    "def convert_megabytes_to_bytes(df, cols):\n",
    "    \"\"\"\n",
    "        This function takes the dataframe and the column which has the bytes values\n",
    "        returns the megabytesof that value\n",
    "        \n",
    "        Args:\n",
    "        -----\n",
    "        df: dataframe\n",
    "        bytes_data: column with bytes values\n",
    "        \n",
    "        Returns:\n",
    "        --------\n",
    "        A series\n",
    "    \"\"\"\n",
    "    for col in cols:      \n",
    "        byte = 1*10e+5\n",
    "        df[col] = df[col] * byte\n",
    "    \n",
    "    return df"
   ]
  },
  {
   "cell_type": "code",
   "execution_count": 81,
   "metadata": {},
   "outputs": [],
   "source": [
    "cols = ['Social Media DL (Bytes)','Social Media UL (Bytes)','Google DL (Bytes)','Google UL (Bytes)','Email DL (Bytes)',\n",
    "       'Email UL (Bytes)', 'Youtube DL (Bytes)', 'Youtube UL (Bytes)', 'Netflix DL (Bytes)','Netflix UL (Bytes)','Gaming DL (Bytes)',\n",
    "       'Gaming UL (Bytes)','Other DL (Bytes)', 'Other UL (Bytes)', 'Total UL (Bytes)', 'Total DL (Bytes)']\n",
    "df3 = convert_megabytes_to_bytes(df3, cols)"
   ]
  },
  {
   "cell_type": "code",
   "execution_count": 82,
   "metadata": {},
   "outputs": [
    {
     "data": {
      "text/html": [
       "<div>\n",
       "<style scoped>\n",
       "    .dataframe tbody tr th:only-of-type {\n",
       "        vertical-align: middle;\n",
       "    }\n",
       "\n",
       "    .dataframe tbody tr th {\n",
       "        vertical-align: top;\n",
       "    }\n",
       "\n",
       "    .dataframe thead th {\n",
       "        text-align: right;\n",
       "    }\n",
       "</style>\n",
       "<table border=\"1\" class=\"dataframe\">\n",
       "  <thead>\n",
       "    <tr style=\"text-align: right;\">\n",
       "      <th></th>\n",
       "      <th>Unnamed: 0</th>\n",
       "      <th>Dur. (ms)</th>\n",
       "      <th>Social Media DL (Bytes)</th>\n",
       "      <th>Social Media UL (Bytes)</th>\n",
       "      <th>Google DL (Bytes)</th>\n",
       "      <th>Google UL (Bytes)</th>\n",
       "      <th>Email DL (Bytes)</th>\n",
       "      <th>Email UL (Bytes)</th>\n",
       "      <th>Youtube DL (Bytes)</th>\n",
       "      <th>Youtube UL (Bytes)</th>\n",
       "      <th>Netflix DL (Bytes)</th>\n",
       "      <th>Netflix UL (Bytes)</th>\n",
       "      <th>Gaming DL (Bytes)</th>\n",
       "      <th>Gaming UL (Bytes)</th>\n",
       "      <th>Other DL (Bytes)</th>\n",
       "      <th>Other UL (Bytes)</th>\n",
       "      <th>Total UL (Bytes)</th>\n",
       "      <th>Total DL (Bytes)</th>\n",
       "    </tr>\n",
       "  </thead>\n",
       "  <tbody>\n",
       "    <tr>\n",
       "      <td>0</td>\n",
       "      <td>0</td>\n",
       "      <td>1823652.0</td>\n",
       "      <td>1545765.0</td>\n",
       "      <td>24420.0</td>\n",
       "      <td>1634479.0</td>\n",
       "      <td>1271433.0</td>\n",
       "      <td>3563542.0</td>\n",
       "      <td>137762.0</td>\n",
       "      <td>15854611.0</td>\n",
       "      <td>2501332.0</td>\n",
       "      <td>8198936.0</td>\n",
       "      <td>9656251.0</td>\n",
       "      <td>278082303.0</td>\n",
       "      <td>14344150.0</td>\n",
       "      <td>171744450.0</td>\n",
       "      <td>8814393.0</td>\n",
       "      <td>36749741.0</td>\n",
       "      <td>308879636.0</td>\n",
       "    </tr>\n",
       "    <tr>\n",
       "      <td>1</td>\n",
       "      <td>1</td>\n",
       "      <td>1365104.0</td>\n",
       "      <td>1926113.0</td>\n",
       "      <td>7165.0</td>\n",
       "      <td>3493924.0</td>\n",
       "      <td>920172.0</td>\n",
       "      <td>629046.0</td>\n",
       "      <td>308339.0</td>\n",
       "      <td>20247395.0</td>\n",
       "      <td>19111729.0</td>\n",
       "      <td>18338413.0</td>\n",
       "      <td>17227132.0</td>\n",
       "      <td>608750074.0</td>\n",
       "      <td>1170709.0</td>\n",
       "      <td>526904238.0</td>\n",
       "      <td>15055145.0</td>\n",
       "      <td>53800391.0</td>\n",
       "      <td>653384965.0</td>\n",
       "    </tr>\n",
       "    <tr>\n",
       "      <td>2</td>\n",
       "      <td>2</td>\n",
       "      <td>1361762.0</td>\n",
       "      <td>1684053.0</td>\n",
       "      <td>42224.0</td>\n",
       "      <td>8535055.0</td>\n",
       "      <td>1694064.0</td>\n",
       "      <td>2690151.0</td>\n",
       "      <td>672973.0</td>\n",
       "      <td>19725661.0</td>\n",
       "      <td>14699576.0</td>\n",
       "      <td>17587794.0</td>\n",
       "      <td>6163408.0</td>\n",
       "      <td>229584621.0</td>\n",
       "      <td>395630.0</td>\n",
       "      <td>410692588.0</td>\n",
       "      <td>4215763.0</td>\n",
       "      <td>27883638.0</td>\n",
       "      <td>279807335.0</td>\n",
       "    </tr>\n",
       "    <tr>\n",
       "      <td>3</td>\n",
       "      <td>3</td>\n",
       "      <td>1321509.0</td>\n",
       "      <td>644121.0</td>\n",
       "      <td>13372.0</td>\n",
       "      <td>9023734.0</td>\n",
       "      <td>2788027.0</td>\n",
       "      <td>1439754.0</td>\n",
       "      <td>631229.0</td>\n",
       "      <td>21388122.0</td>\n",
       "      <td>15146643.0</td>\n",
       "      <td>13994646.0</td>\n",
       "      <td>1097942.0</td>\n",
       "      <td>799538153.0</td>\n",
       "      <td>10849722.0</td>\n",
       "      <td>749039933.0</td>\n",
       "      <td>12797283.0</td>\n",
       "      <td>43324218.0</td>\n",
       "      <td>846028530.0</td>\n",
       "    </tr>\n",
       "    <tr>\n",
       "      <td>4</td>\n",
       "      <td>4</td>\n",
       "      <td>1089009.0</td>\n",
       "      <td>862600.0</td>\n",
       "      <td>50188.0</td>\n",
       "      <td>6248284.0</td>\n",
       "      <td>1500559.0</td>\n",
       "      <td>1936496.0</td>\n",
       "      <td>173853.0</td>\n",
       "      <td>15259380.0</td>\n",
       "      <td>18962873.0</td>\n",
       "      <td>17124581.0</td>\n",
       "      <td>415218.0</td>\n",
       "      <td>527707248.0</td>\n",
       "      <td>3529801.0</td>\n",
       "      <td>550709500.0</td>\n",
       "      <td>13910322.0</td>\n",
       "      <td>38542814.0</td>\n",
       "      <td>569138589.0</td>\n",
       "    </tr>\n",
       "  </tbody>\n",
       "</table>\n",
       "</div>"
      ],
      "text/plain": [
       "   Unnamed: 0  Dur. (ms)  Social Media DL (Bytes)  Social Media UL (Bytes)  \\\n",
       "0           0  1823652.0                1545765.0                  24420.0   \n",
       "1           1  1365104.0                1926113.0                   7165.0   \n",
       "2           2  1361762.0                1684053.0                  42224.0   \n",
       "3           3  1321509.0                 644121.0                  13372.0   \n",
       "4           4  1089009.0                 862600.0                  50188.0   \n",
       "\n",
       "   Google DL (Bytes)  Google UL (Bytes)  Email DL (Bytes)  Email UL (Bytes)  \\\n",
       "0          1634479.0          1271433.0         3563542.0          137762.0   \n",
       "1          3493924.0           920172.0          629046.0          308339.0   \n",
       "2          8535055.0          1694064.0         2690151.0          672973.0   \n",
       "3          9023734.0          2788027.0         1439754.0          631229.0   \n",
       "4          6248284.0          1500559.0         1936496.0          173853.0   \n",
       "\n",
       "   Youtube DL (Bytes)  Youtube UL (Bytes)  Netflix DL (Bytes)  \\\n",
       "0          15854611.0           2501332.0           8198936.0   \n",
       "1          20247395.0          19111729.0          18338413.0   \n",
       "2          19725661.0          14699576.0          17587794.0   \n",
       "3          21388122.0          15146643.0          13994646.0   \n",
       "4          15259380.0          18962873.0          17124581.0   \n",
       "\n",
       "   Netflix UL (Bytes)  Gaming DL (Bytes)  Gaming UL (Bytes)  Other DL (Bytes)  \\\n",
       "0           9656251.0        278082303.0         14344150.0       171744450.0   \n",
       "1          17227132.0        608750074.0          1170709.0       526904238.0   \n",
       "2           6163408.0        229584621.0           395630.0       410692588.0   \n",
       "3           1097942.0        799538153.0         10849722.0       749039933.0   \n",
       "4            415218.0        527707248.0          3529801.0       550709500.0   \n",
       "\n",
       "   Other UL (Bytes)  Total UL (Bytes)  Total DL (Bytes)  \n",
       "0         8814393.0        36749741.0       308879636.0  \n",
       "1        15055145.0        53800391.0       653384965.0  \n",
       "2         4215763.0        27883638.0       279807335.0  \n",
       "3        12797283.0        43324218.0       846028530.0  \n",
       "4        13910322.0        38542814.0       569138589.0  "
      ]
     },
     "execution_count": 82,
     "metadata": {},
     "output_type": "execute_result"
    }
   ],
   "source": [
    "df3.head()"
   ]
  },
  {
   "cell_type": "code",
   "execution_count": 87,
   "metadata": {},
   "outputs": [
    {
     "data": {
      "text/plain": [
       "count    1.483460e+05\n",
       "mean     1.795138e+06\n",
       "std      1.035473e+06\n",
       "min      1.200000e+01\n",
       "25%      8.989515e+05\n",
       "50%      1.793802e+06\n",
       "75%      2.694908e+06\n",
       "max      3.586064e+06\n",
       "Name: Social Media DL (Bytes), dtype: float64"
      ]
     },
     "execution_count": 87,
     "metadata": {},
     "output_type": "execute_result"
    }
   ],
   "source": [
    "df3['Social Media DL (Bytes)'].describe()"
   ]
  },
  {
   "cell_type": "code",
   "execution_count": 85,
   "metadata": {},
   "outputs": [
    {
     "data": {
      "text/plain": [
       "count    148346.000000\n",
       "mean      32922.516772\n",
       "std       19008.768333\n",
       "min           0.000000\n",
       "25%       16431.250000\n",
       "50%       32916.000000\n",
       "75%       49330.000000\n",
       "max       65870.000000\n",
       "Name: Social Media UL (Bytes), dtype: float64"
      ]
     },
     "execution_count": 85,
     "metadata": {},
     "output_type": "execute_result"
    }
   ],
   "source": [
    "df3['Social Media UL (Bytes)'].describe()"
   ]
  },
  {
   "cell_type": "code",
   "execution_count": 88,
   "metadata": {},
   "outputs": [
    {
     "data": {
      "text/plain": [
       "count    1.483460e+05\n",
       "mean     4.112015e+07\n",
       "std      1.127958e+07\n",
       "min      2.866892e+06\n",
       "25%      3.321763e+07\n",
       "50%      4.114375e+07\n",
       "75%      4.903338e+07\n",
       "max      7.833131e+07\n",
       "Name: Total UL (Bytes), dtype: float64"
      ]
     },
     "execution_count": 88,
     "metadata": {},
     "output_type": "execute_result"
    }
   ],
   "source": [
    "df3['Total UL (Bytes)'].describe()"
   ]
  },
  {
   "cell_type": "code",
   "execution_count": 89,
   "metadata": {},
   "outputs": [
    {
     "data": {
      "text/plain": [
       "count    1.483460e+05\n",
       "mean     4.546996e+08\n",
       "std      2.441771e+08\n",
       "min      7.114041e+06\n",
       "25%      2.431725e+08\n",
       "50%      4.560177e+08\n",
       "75%      6.657654e+08\n",
       "max      9.029696e+08\n",
       "Name: Total DL (Bytes), dtype: float64"
      ]
     },
     "execution_count": 89,
     "metadata": {},
     "output_type": "execute_result"
    }
   ],
   "source": [
    "df3['Total DL (Bytes)'].describe()"
   ]
  },
  {
   "cell_type": "code",
   "execution_count": 227,
   "metadata": {},
   "outputs": [],
   "source": [
    "def format_float(value):\n",
    "    return f'{value:,.2f}'\n",
    "\n",
    "pd.options.display.float_format = format_float"
   ]
  },
  {
   "cell_type": "markdown",
   "metadata": {},
   "source": [
    "# Non Graphical Univariate analysis"
   ]
  },
  {
   "cell_type": "code",
   "execution_count": 95,
   "metadata": {},
   "outputs": [
    {
     "data": {
      "text/plain": [
       "Unnamed: 0                         1,872,413,658.45\n",
       "Dur. (ms)                          6,563,974,619.27\n",
       "Social Media DL (Bytes)        1,072,203,643,881.64\n",
       "Social Media UL (Bytes)              361,333,273.54\n",
       "Google DL (Bytes)             10,948,753,103,604.02\n",
       "Google UL (Bytes)              1,416,072,573,957.48\n",
       "Email DL (Bytes)               1,073,351,426,644.34\n",
       "Email UL (Bytes)                  72,897,891,537.95\n",
       "Youtube DL (Bytes)            45,040,497,543,655.70\n",
       "Youtube UL (Bytes)            40,266,049,470,400.78\n",
       "Netflix DL (Bytes)            45,228,789,032,769.02\n",
       "Netflix UL (Bytes)            40,426,516,191,350.02\n",
       "Gaming DL (Bytes)         59,537,241,666,255,840.00\n",
       "Gaming UL (Bytes)             22,863,665,799,699.32\n",
       "Other DL (Bytes)          59,130,759,537,068,472.00\n",
       "Other UL (Bytes)              22,746,715,853,055.16\n",
       "Total UL (Bytes)             127,228,813,388,886.45\n",
       "Total DL (Bytes)          59,622,449,310,685,192.00\n",
       "dtype: float64"
      ]
     },
     "execution_count": 95,
     "metadata": {},
     "output_type": "execute_result"
    }
   ],
   "source": [
    "df3.var()"
   ]
  },
  {
   "cell_type": "code",
   "execution_count": 96,
   "metadata": {},
   "outputs": [
    {
     "data": {
      "text/plain": [
       "Unnamed: 0                     43,271.40\n",
       "Dur. (ms)                      81,018.36\n",
       "Social Media DL (Bytes)     1,035,472.67\n",
       "Social Media UL (Bytes)        19,008.77\n",
       "Google DL (Bytes)           3,308,890.01\n",
       "Google UL (Bytes)           1,189,988.48\n",
       "Email DL (Bytes)            1,036,026.75\n",
       "Email UL (Bytes)              269,996.10\n",
       "Youtube DL (Bytes)          6,711,221.76\n",
       "Youtube UL (Bytes)          6,345,553.52\n",
       "Netflix DL (Bytes)          6,725,235.24\n",
       "Netflix UL (Bytes)          6,358,184.98\n",
       "Gaming DL (Bytes)         244,002,544.38\n",
       "Gaming UL (Bytes)           4,781,596.57\n",
       "Other DL (Bytes)          243,168,171.31\n",
       "Other UL (Bytes)            4,769,351.72\n",
       "Total UL (Bytes)           11,279,575.05\n",
       "Total DL (Bytes)          244,177,085.97\n",
       "dtype: float64"
      ]
     },
     "execution_count": 96,
     "metadata": {},
     "output_type": "execute_result"
    }
   ],
   "source": [
    "df3.std()"
   ]
  },
  {
   "cell_type": "code",
   "execution_count": 97,
   "metadata": {},
   "outputs": [
    {
     "data": {
      "text/plain": [
       "Unnamed: 0                     75,180.74\n",
       "Dur. (ms)                     105,129.39\n",
       "Social Media DL (Bytes)     1,795,138.21\n",
       "Social Media UL (Bytes)        32,922.52\n",
       "Google DL (Bytes)           5,751,626.31\n",
       "Google UL (Bytes)           2,056,246.34\n",
       "Email DL (Bytes)            1,791,723.33\n",
       "Email UL (Bytes)              467,382.68\n",
       "Youtube DL (Bytes)         11,634,452.53\n",
       "Youtube UL (Bytes)         11,008,573.77\n",
       "Netflix DL (Bytes)         11,627,476.86\n",
       "Netflix UL (Bytes)         11,001,869.16\n",
       "Gaming DL (Bytes)         422,099,179.28\n",
       "Gaming UL (Bytes)           8,290,269.21\n",
       "Other DL (Bytes)          421,165,604.23\n",
       "Other UL (Bytes)            8,262,889.63\n",
       "Total UL (Bytes)           41,120,153.31\n",
       "Total DL (Bytes)          454,699,596.52\n",
       "dtype: float64"
      ]
     },
     "execution_count": 97,
     "metadata": {},
     "output_type": "execute_result"
    }
   ],
   "source": [
    "df3.mean()"
   ]
  },
  {
   "cell_type": "code",
   "execution_count": 98,
   "metadata": {},
   "outputs": [
    {
     "data": {
      "text/plain": [
       "Unnamed: 0                     75,086.50\n",
       "Dur. (ms)                      86,399.00\n",
       "Social Media DL (Bytes)     1,793,802.00\n",
       "Social Media UL (Bytes)        32,916.00\n",
       "Google DL (Bytes)           5,767,286.00\n",
       "Google UL (Bytes)           2,054,278.00\n",
       "Email DL (Bytes)            1,793,585.50\n",
       "Email UL (Bytes)              466,419.00\n",
       "Youtube DL (Bytes)         11,617,271.00\n",
       "Youtube UL (Bytes)         11,011,967.50\n",
       "Netflix DL (Bytes)         11,642,856.50\n",
       "Netflix UL (Bytes)         10,999,070.50\n",
       "Gaming DL (Bytes)         423,536,861.50\n",
       "Gaming UL (Bytes)           8,293,466.00\n",
       "Other DL (Bytes)          421,871,122.50\n",
       "Other UL (Bytes)            8,265,908.00\n",
       "Total UL (Bytes)           41,143,748.50\n",
       "Total DL (Bytes)          456,017,654.00\n",
       "dtype: float64"
      ]
     },
     "execution_count": 98,
     "metadata": {},
     "output_type": "execute_result"
    }
   ],
   "source": [
    "df3.median()"
   ]
  },
  {
   "cell_type": "code",
   "execution_count": 101,
   "metadata": {},
   "outputs": [
    {
     "data": {
      "text/plain": [
       "Unnamed: 0                    149,999.00\n",
       "Dur. (ms)                   1,859,336.00\n",
       "Social Media DL (Bytes)     3,586,064.00\n",
       "Social Media UL (Bytes)        65,870.00\n",
       "Google DL (Bytes)          11,462,832.00\n",
       "Google UL (Bytes)           4,121,357.00\n",
       "Email DL (Bytes)            3,586,146.00\n",
       "Email UL (Bytes)              936,418.00\n",
       "Youtube DL (Bytes)         23,259,098.00\n",
       "Youtube UL (Bytes)         22,011,962.00\n",
       "Netflix DL (Bytes)         23,259,189.00\n",
       "Netflix UL (Bytes)         22,011,955.00\n",
       "Gaming DL (Bytes)         843,441,889.00\n",
       "Gaming UL (Bytes)          16,558,794.00\n",
       "Other DL (Bytes)          843,442,489.00\n",
       "Other UL (Bytes)           16,558,816.00\n",
       "Total UL (Bytes)           78,331,311.00\n",
       "Total DL (Bytes)          902,969,616.00\n",
       "dtype: float64"
      ]
     },
     "execution_count": 101,
     "metadata": {},
     "output_type": "execute_result"
    }
   ],
   "source": [
    "df3.max()"
   ]
  },
  {
   "cell_type": "code",
   "execution_count": 102,
   "metadata": {},
   "outputs": [
    {
     "data": {
      "text/plain": [
       "Unnamed: 0                        0.00\n",
       "Dur. (ms)                     7,142.00\n",
       "Social Media DL (Bytes)          12.00\n",
       "Social Media UL (Bytes)           0.00\n",
       "Google DL (Bytes)               207.00\n",
       "Google UL (Bytes)                 3.00\n",
       "Email DL (Bytes)                 14.00\n",
       "Email UL (Bytes)                  2.00\n",
       "Youtube DL (Bytes)               53.00\n",
       "Youtube UL (Bytes)              105.00\n",
       "Netflix DL (Bytes)               42.00\n",
       "Netflix UL (Bytes)               35.00\n",
       "Gaming DL (Bytes)             2,516.00\n",
       "Gaming UL (Bytes)                59.00\n",
       "Other DL (Bytes)              3,290.00\n",
       "Other UL (Bytes)                148.00\n",
       "Total UL (Bytes)          2,866,892.00\n",
       "Total DL (Bytes)          7,114,041.00\n",
       "dtype: float64"
      ]
     },
     "execution_count": 102,
     "metadata": {},
     "output_type": "execute_result"
    }
   ],
   "source": [
    "df3.min()"
   ]
  },
  {
   "cell_type": "code",
   "execution_count": 110,
   "metadata": {},
   "outputs": [
    {
     "data": {
      "text/html": [
       "<div>\n",
       "<style scoped>\n",
       "    .dataframe tbody tr th:only-of-type {\n",
       "        vertical-align: middle;\n",
       "    }\n",
       "\n",
       "    .dataframe tbody tr th {\n",
       "        vertical-align: top;\n",
       "    }\n",
       "\n",
       "    .dataframe thead th {\n",
       "        text-align: right;\n",
       "    }\n",
       "</style>\n",
       "<table border=\"1\" class=\"dataframe\">\n",
       "  <thead>\n",
       "    <tr style=\"text-align: right;\">\n",
       "      <th></th>\n",
       "      <th>Unnamed: 0</th>\n",
       "      <th>Dur. (ms)</th>\n",
       "      <th>Social Media DL (Bytes)</th>\n",
       "      <th>Social Media UL (Bytes)</th>\n",
       "      <th>Google DL (Bytes)</th>\n",
       "      <th>Google UL (Bytes)</th>\n",
       "      <th>Email DL (Bytes)</th>\n",
       "      <th>Email UL (Bytes)</th>\n",
       "      <th>Youtube DL (Bytes)</th>\n",
       "      <th>Youtube UL (Bytes)</th>\n",
       "      <th>Netflix DL (Bytes)</th>\n",
       "      <th>Netflix UL (Bytes)</th>\n",
       "      <th>Gaming DL (Bytes)</th>\n",
       "      <th>Gaming UL (Bytes)</th>\n",
       "      <th>Other DL (Bytes)</th>\n",
       "      <th>Other UL (Bytes)</th>\n",
       "      <th>Total UL (Bytes)</th>\n",
       "      <th>Total DL (Bytes)</th>\n",
       "    </tr>\n",
       "  </thead>\n",
       "  <tbody>\n",
       "    <tr>\n",
       "      <td>0</td>\n",
       "      <td>0</td>\n",
       "      <td>1,823,652.00</td>\n",
       "      <td>1,545,765.00</td>\n",
       "      <td>24,420.00</td>\n",
       "      <td>1,634,479.00</td>\n",
       "      <td>1,271,433.00</td>\n",
       "      <td>3,563,542.00</td>\n",
       "      <td>137,762.00</td>\n",
       "      <td>15,854,611.00</td>\n",
       "      <td>2,501,332.00</td>\n",
       "      <td>8,198,936.00</td>\n",
       "      <td>9,656,251.00</td>\n",
       "      <td>278,082,303.00</td>\n",
       "      <td>14,344,150.00</td>\n",
       "      <td>171,744,450.00</td>\n",
       "      <td>8,814,393.00</td>\n",
       "      <td>36,749,741.00</td>\n",
       "      <td>308,879,636.00</td>\n",
       "    </tr>\n",
       "    <tr>\n",
       "      <td>1</td>\n",
       "      <td>1</td>\n",
       "      <td>1,365,104.00</td>\n",
       "      <td>1,926,113.00</td>\n",
       "      <td>7,165.00</td>\n",
       "      <td>3,493,924.00</td>\n",
       "      <td>920,172.00</td>\n",
       "      <td>629,046.00</td>\n",
       "      <td>308,339.00</td>\n",
       "      <td>20,247,395.00</td>\n",
       "      <td>19,111,729.00</td>\n",
       "      <td>18,338,413.00</td>\n",
       "      <td>17,227,132.00</td>\n",
       "      <td>608,750,074.00</td>\n",
       "      <td>1,170,709.00</td>\n",
       "      <td>526,904,238.00</td>\n",
       "      <td>15,055,145.00</td>\n",
       "      <td>53,800,391.00</td>\n",
       "      <td>653,384,965.00</td>\n",
       "    </tr>\n",
       "    <tr>\n",
       "      <td>2</td>\n",
       "      <td>2</td>\n",
       "      <td>1,361,762.00</td>\n",
       "      <td>1,684,053.00</td>\n",
       "      <td>42,224.00</td>\n",
       "      <td>8,535,055.00</td>\n",
       "      <td>1,694,064.00</td>\n",
       "      <td>2,690,151.00</td>\n",
       "      <td>672,973.00</td>\n",
       "      <td>19,725,661.00</td>\n",
       "      <td>14,699,576.00</td>\n",
       "      <td>17,587,794.00</td>\n",
       "      <td>6,163,408.00</td>\n",
       "      <td>229,584,621.00</td>\n",
       "      <td>395,630.00</td>\n",
       "      <td>410,692,588.00</td>\n",
       "      <td>4,215,763.00</td>\n",
       "      <td>27,883,638.00</td>\n",
       "      <td>279,807,335.00</td>\n",
       "    </tr>\n",
       "    <tr>\n",
       "      <td>3</td>\n",
       "      <td>3</td>\n",
       "      <td>1,321,509.00</td>\n",
       "      <td>644,121.00</td>\n",
       "      <td>13,372.00</td>\n",
       "      <td>9,023,734.00</td>\n",
       "      <td>2,788,027.00</td>\n",
       "      <td>1,439,754.00</td>\n",
       "      <td>631,229.00</td>\n",
       "      <td>21,388,122.00</td>\n",
       "      <td>15,146,643.00</td>\n",
       "      <td>13,994,646.00</td>\n",
       "      <td>1,097,942.00</td>\n",
       "      <td>799,538,153.00</td>\n",
       "      <td>10,849,722.00</td>\n",
       "      <td>749,039,933.00</td>\n",
       "      <td>12,797,283.00</td>\n",
       "      <td>43,324,218.00</td>\n",
       "      <td>846,028,530.00</td>\n",
       "    </tr>\n",
       "    <tr>\n",
       "      <td>4</td>\n",
       "      <td>4</td>\n",
       "      <td>1,089,009.00</td>\n",
       "      <td>862,600.00</td>\n",
       "      <td>50,188.00</td>\n",
       "      <td>6,248,284.00</td>\n",
       "      <td>1,500,559.00</td>\n",
       "      <td>1,936,496.00</td>\n",
       "      <td>173,853.00</td>\n",
       "      <td>15,259,380.00</td>\n",
       "      <td>18,962,873.00</td>\n",
       "      <td>17,124,581.00</td>\n",
       "      <td>415,218.00</td>\n",
       "      <td>527,707,248.00</td>\n",
       "      <td>3,529,801.00</td>\n",
       "      <td>550,709,500.00</td>\n",
       "      <td>13,910,322.00</td>\n",
       "      <td>38,542,814.00</td>\n",
       "      <td>569,138,589.00</td>\n",
       "    </tr>\n",
       "  </tbody>\n",
       "</table>\n",
       "</div>"
      ],
      "text/plain": [
       "   Unnamed: 0    Dur. (ms)  Social Media DL (Bytes)  Social Media UL (Bytes)  \\\n",
       "0           0 1,823,652.00             1,545,765.00                24,420.00   \n",
       "1           1 1,365,104.00             1,926,113.00                 7,165.00   \n",
       "2           2 1,361,762.00             1,684,053.00                42,224.00   \n",
       "3           3 1,321,509.00               644,121.00                13,372.00   \n",
       "4           4 1,089,009.00               862,600.00                50,188.00   \n",
       "\n",
       "   Google DL (Bytes)  Google UL (Bytes)  Email DL (Bytes)  Email UL (Bytes)  \\\n",
       "0       1,634,479.00       1,271,433.00      3,563,542.00        137,762.00   \n",
       "1       3,493,924.00         920,172.00        629,046.00        308,339.00   \n",
       "2       8,535,055.00       1,694,064.00      2,690,151.00        672,973.00   \n",
       "3       9,023,734.00       2,788,027.00      1,439,754.00        631,229.00   \n",
       "4       6,248,284.00       1,500,559.00      1,936,496.00        173,853.00   \n",
       "\n",
       "   Youtube DL (Bytes)  Youtube UL (Bytes)  Netflix DL (Bytes)  \\\n",
       "0       15,854,611.00        2,501,332.00        8,198,936.00   \n",
       "1       20,247,395.00       19,111,729.00       18,338,413.00   \n",
       "2       19,725,661.00       14,699,576.00       17,587,794.00   \n",
       "3       21,388,122.00       15,146,643.00       13,994,646.00   \n",
       "4       15,259,380.00       18,962,873.00       17,124,581.00   \n",
       "\n",
       "   Netflix UL (Bytes)  Gaming DL (Bytes)  Gaming UL (Bytes)  Other DL (Bytes)  \\\n",
       "0        9,656,251.00     278,082,303.00      14,344,150.00    171,744,450.00   \n",
       "1       17,227,132.00     608,750,074.00       1,170,709.00    526,904,238.00   \n",
       "2        6,163,408.00     229,584,621.00         395,630.00    410,692,588.00   \n",
       "3        1,097,942.00     799,538,153.00      10,849,722.00    749,039,933.00   \n",
       "4          415,218.00     527,707,248.00       3,529,801.00    550,709,500.00   \n",
       "\n",
       "   Other UL (Bytes)  Total UL (Bytes)  Total DL (Bytes)  \n",
       "0      8,814,393.00     36,749,741.00    308,879,636.00  \n",
       "1     15,055,145.00     53,800,391.00    653,384,965.00  \n",
       "2      4,215,763.00     27,883,638.00    279,807,335.00  \n",
       "3     12,797,283.00     43,324,218.00    846,028,530.00  \n",
       "4     13,910,322.00     38,542,814.00    569,138,589.00  "
      ]
     },
     "execution_count": 110,
     "metadata": {},
     "output_type": "execute_result"
    }
   ],
   "source": [
    "df3.head()"
   ]
  },
  {
   "cell_type": "markdown",
   "metadata": {},
   "source": [
    "# Graphical Univariate"
   ]
  },
  {
   "cell_type": "code",
   "execution_count": 214,
   "metadata": {},
   "outputs": [],
   "source": [
    "import pandas as pd\n",
    "import seaborn as sns\n",
    "from matplotlib import pyplot as plt\n",
    "\n",
    "\n",
    "def plot_hist(df:pd.DataFrame, column:str, color:str)->None:\n",
    "    # plt.figure(figsize=(15, 10))\n",
    "    # fig, ax = plt.subplots(1, figsize=(12, 7))\n",
    "    sns.displot(data=df, x=column, color=color, kde=True, height=7, aspect=2)\n",
    "    plt.title(f'Distribution of {column}', size=20, fontweight='bold')\n",
    "    plt.show()\n",
    "\n",
    "def plot_count(df:pd.DataFrame, column:str) -> None:\n",
    "    plt.figure(figsize=(12, 7))\n",
    "    sns.countplot(data=df, x=column)\n",
    "    plt.title(f'Distribution of {column}', size=20, fontweight='bold')\n",
    "    plt.show()\n",
    "    \n",
    "def plot_bar(df:pd.DataFrame, x_col:str, y_col:str, title:str, xlabel:str, ylabel:str)->None:\n",
    "    plt.figure(figsize=(12, 7))\n",
    "    sns.barplot(data = df, x=x_col, y=y_col)\n",
    "    plt.title(title, size=20)\n",
    "    plt.xticks(rotation=75, fontsize=14)\n",
    "    plt.yticks( fontsize=14)\n",
    "    plt.xlabel(xlabel, fontsize=16)\n",
    "    plt.ylabel(ylabel, fontsize=16)\n",
    "    plt.show()\n",
    "\n",
    "def plot_heatmap(df:pd.DataFrame, title:str, cbar=False)->None:\n",
    "    plt.figure(figsize=(12, 7))\n",
    "    sns.heatmap(df, annot=True, cmap='viridis', vmin=0, vmax=1, fmt='.2f', linewidths=.7, cbar=cbar )\n",
    "    plt.title(title, size=18, fontweight='bold')\n",
    "    plt.show()\n",
    "\n",
    "def plot_box(df:pd.DataFrame, x_col:str, title:str) -> None:\n",
    "    plt.figure(figsize=(12, 7))\n",
    "    sns.boxplot(data = df, x=x_col)\n",
    "    plt.title(title, size=20)\n",
    "    plt.xticks(rotation=75, fontsize=14)\n",
    "    plt.show()\n",
    "\n",
    "def plot_box_multi(df:pd.DataFrame, x_col:str, y_col:str, title:str) -> None:\n",
    "    plt.figure(figsize=(12, 7))\n",
    "    sns.boxplot(data = df, x=x_col, y=y_col)\n",
    "    plt.title(title, size=20)\n",
    "    plt.xticks(rotation=75, fontsize=14)\n",
    "    plt.yticks( fontsize=14)\n",
    "    plt.show()\n",
    "\n",
    "def plot_scatter(df: pd.DataFrame, x_col: str, y_col: str, title: str) -> None:\n",
    "    plt.figure(figsize=(12, 7))\n",
    "    sns.scatterplot(data = df, x=x_col, y=y_col)\n",
    "    plt.title(title, size=20)\n",
    "    plt.xticks(fontsize=14)\n",
    "    plt.yticks( fontsize=14)\n",
    "    plt.show()"
   ]
  },
  {
   "cell_type": "code",
   "execution_count": 193,
   "metadata": {},
   "outputs": [
    {
     "ename": "AttributeError",
     "evalue": "module 'seaborn' has no attribute 'displot'",
     "output_type": "error",
     "traceback": [
      "\u001b[1;31m---------------------------------------------------------------------------\u001b[0m",
      "\u001b[1;31mAttributeError\u001b[0m                            Traceback (most recent call last)",
      "\u001b[1;32m<ipython-input-193-212c01829985>\u001b[0m in \u001b[0;36m<module>\u001b[1;34m\u001b[0m\n\u001b[1;32m----> 1\u001b[1;33m \u001b[0mplot_hist\u001b[0m\u001b[1;33m(\u001b[0m\u001b[0mdf3\u001b[0m\u001b[1;33m,\u001b[0m \u001b[1;34m'Social Media UL (Bytes)'\u001b[0m\u001b[1;33m,\u001b[0m \u001b[1;34m'blue'\u001b[0m\u001b[1;33m)\u001b[0m\u001b[1;33m\u001b[0m\u001b[1;33m\u001b[0m\u001b[0m\n\u001b[0m",
      "\u001b[1;32m<ipython-input-192-1bc977f4f187>\u001b[0m in \u001b[0;36mplot_hist\u001b[1;34m(df, column, color)\u001b[0m\n\u001b[0;32m      7\u001b[0m     \u001b[1;31m# plt.figure(figsize=(15, 10))\u001b[0m\u001b[1;33m\u001b[0m\u001b[1;33m\u001b[0m\u001b[1;33m\u001b[0m\u001b[0m\n\u001b[0;32m      8\u001b[0m     \u001b[1;31m# fig, ax = plt.subplots(1, figsize=(12, 7))\u001b[0m\u001b[1;33m\u001b[0m\u001b[1;33m\u001b[0m\u001b[1;33m\u001b[0m\u001b[0m\n\u001b[1;32m----> 9\u001b[1;33m     \u001b[0msns\u001b[0m\u001b[1;33m.\u001b[0m\u001b[0mdisplot\u001b[0m\u001b[1;33m(\u001b[0m\u001b[0mdata\u001b[0m\u001b[1;33m=\u001b[0m\u001b[0mdf\u001b[0m\u001b[1;33m,\u001b[0m \u001b[0mx\u001b[0m\u001b[1;33m=\u001b[0m\u001b[0mcolumn\u001b[0m\u001b[1;33m,\u001b[0m \u001b[0mcolor\u001b[0m\u001b[1;33m=\u001b[0m\u001b[0mcolor\u001b[0m\u001b[1;33m,\u001b[0m \u001b[0mkde\u001b[0m\u001b[1;33m=\u001b[0m\u001b[1;32mTrue\u001b[0m\u001b[1;33m,\u001b[0m \u001b[0mheight\u001b[0m\u001b[1;33m=\u001b[0m\u001b[1;36m7\u001b[0m\u001b[1;33m,\u001b[0m \u001b[0maspect\u001b[0m\u001b[1;33m=\u001b[0m\u001b[1;36m2\u001b[0m\u001b[1;33m)\u001b[0m\u001b[1;33m\u001b[0m\u001b[1;33m\u001b[0m\u001b[0m\n\u001b[0m\u001b[0;32m     10\u001b[0m     \u001b[0mplt\u001b[0m\u001b[1;33m.\u001b[0m\u001b[0mtitle\u001b[0m\u001b[1;33m(\u001b[0m\u001b[1;34mf'Distribution of {column}'\u001b[0m\u001b[1;33m,\u001b[0m \u001b[0msize\u001b[0m\u001b[1;33m=\u001b[0m\u001b[1;36m20\u001b[0m\u001b[1;33m,\u001b[0m \u001b[0mfontweight\u001b[0m\u001b[1;33m=\u001b[0m\u001b[1;34m'bold'\u001b[0m\u001b[1;33m)\u001b[0m\u001b[1;33m\u001b[0m\u001b[1;33m\u001b[0m\u001b[0m\n\u001b[0;32m     11\u001b[0m     \u001b[0mplt\u001b[0m\u001b[1;33m.\u001b[0m\u001b[0mshow\u001b[0m\u001b[1;33m(\u001b[0m\u001b[1;33m)\u001b[0m\u001b[1;33m\u001b[0m\u001b[1;33m\u001b[0m\u001b[0m\n",
      "\u001b[1;31mAttributeError\u001b[0m: module 'seaborn' has no attribute 'displot'"
     ]
    }
   ],
   "source": [
    "plot_hist(df3, 'Social Media UL (Bytes)', 'blue')"
   ]
  },
  {
   "cell_type": "code",
   "execution_count": 179,
   "metadata": {},
   "outputs": [
    {
     "data": {
      "image/png": "[encoded data removed]",
      "text/plain": [
       "<Figure size 864x504 with 1 Axes>"
      ]
     },
     "metadata": {
      "needs_background": "light"
     },
     "output_type": "display_data"
    }
   ],
   "source": [
    "plot_box(df3, \"Google DL (Bytes)\", \"Google DL (Bytes) outliers\")"
   ]
  },
  {
   "cell_type": "code",
   "execution_count": 183,
   "metadata": {},
   "outputs": [
    {
     "ename": "AttributeError",
     "evalue": "module 'seaborn' has no attribute 'displot'",
     "output_type": "error",
     "traceback": [
      "\u001b[1;31m---------------------------------------------------------------------------\u001b[0m",
      "\u001b[1;31mAttributeError\u001b[0m                            Traceback (most recent call last)",
      "\u001b[1;32m<ipython-input-183-2e7d92fb9b52>\u001b[0m in \u001b[0;36m<module>\u001b[1;34m\u001b[0m\n\u001b[1;32m----> 1\u001b[1;33m \u001b[0mplot_hist\u001b[0m\u001b[1;33m(\u001b[0m\u001b[0mdf3\u001b[0m\u001b[1;33m,\u001b[0m \u001b[1;34m\"Google DL (Bytes)\"\u001b[0m\u001b[1;33m,\u001b[0m \u001b[1;34m\"blue\"\u001b[0m\u001b[1;33m)\u001b[0m\u001b[1;33m\u001b[0m\u001b[1;33m\u001b[0m\u001b[0m\n\u001b[0m",
      "\u001b[1;32m<ipython-input-182-1bc977f4f187>\u001b[0m in \u001b[0;36mplot_hist\u001b[1;34m(df, column, color)\u001b[0m\n\u001b[0;32m      7\u001b[0m     \u001b[1;31m# plt.figure(figsize=(15, 10))\u001b[0m\u001b[1;33m\u001b[0m\u001b[1;33m\u001b[0m\u001b[1;33m\u001b[0m\u001b[0m\n\u001b[0;32m      8\u001b[0m     \u001b[1;31m# fig, ax = plt.subplots(1, figsize=(12, 7))\u001b[0m\u001b[1;33m\u001b[0m\u001b[1;33m\u001b[0m\u001b[1;33m\u001b[0m\u001b[0m\n\u001b[1;32m----> 9\u001b[1;33m     \u001b[0msns\u001b[0m\u001b[1;33m.\u001b[0m\u001b[0mdisplot\u001b[0m\u001b[1;33m(\u001b[0m\u001b[0mdata\u001b[0m\u001b[1;33m=\u001b[0m\u001b[0mdf\u001b[0m\u001b[1;33m,\u001b[0m \u001b[0mx\u001b[0m\u001b[1;33m=\u001b[0m\u001b[0mcolumn\u001b[0m\u001b[1;33m,\u001b[0m \u001b[0mcolor\u001b[0m\u001b[1;33m=\u001b[0m\u001b[0mcolor\u001b[0m\u001b[1;33m,\u001b[0m \u001b[0mkde\u001b[0m\u001b[1;33m=\u001b[0m\u001b[1;32mTrue\u001b[0m\u001b[1;33m,\u001b[0m \u001b[0mheight\u001b[0m\u001b[1;33m=\u001b[0m\u001b[1;36m7\u001b[0m\u001b[1;33m,\u001b[0m \u001b[0maspect\u001b[0m\u001b[1;33m=\u001b[0m\u001b[1;36m2\u001b[0m\u001b[1;33m)\u001b[0m\u001b[1;33m\u001b[0m\u001b[1;33m\u001b[0m\u001b[0m\n\u001b[0m\u001b[0;32m     10\u001b[0m     \u001b[0mplt\u001b[0m\u001b[1;33m.\u001b[0m\u001b[0mtitle\u001b[0m\u001b[1;33m(\u001b[0m\u001b[1;34mf'Distribution of {column}'\u001b[0m\u001b[1;33m,\u001b[0m \u001b[0msize\u001b[0m\u001b[1;33m=\u001b[0m\u001b[1;36m20\u001b[0m\u001b[1;33m,\u001b[0m \u001b[0mfontweight\u001b[0m\u001b[1;33m=\u001b[0m\u001b[1;34m'bold'\u001b[0m\u001b[1;33m)\u001b[0m\u001b[1;33m\u001b[0m\u001b[1;33m\u001b[0m\u001b[0m\n\u001b[0;32m     11\u001b[0m     \u001b[0mplt\u001b[0m\u001b[1;33m.\u001b[0m\u001b[0mshow\u001b[0m\u001b[1;33m(\u001b[0m\u001b[1;33m)\u001b[0m\u001b[1;33m\u001b[0m\u001b[1;33m\u001b[0m\u001b[0m\n",
      "\u001b[1;31mAttributeError\u001b[0m: module 'seaborn' has no attribute 'displot'"
     ]
    }
   ],
   "source": [
    "plot_hist(df3, \"Google DL (Bytes)\", \"blue\")"
   ]
  },
  {
   "cell_type": "code",
   "execution_count": 178,
   "metadata": {},
   "outputs": [
    {
     "data": {
      "image/png": "[encoded data removed]",
      "text/plain": [
       "<Figure size 864x504 with 1 Axes>"
      ]
     },
     "metadata": {
      "needs_background": "light"
     },
     "output_type": "display_data"
    }
   ],
   "source": [
    "plot_box(df3, \"Social Media DL (Bytes)\", \"Social Media UL (Bytes) outliers\")"
   ]
  },
  {
   "cell_type": "code",
   "execution_count": null,
   "metadata": {},
   "outputs": [],
   "source": [
    "plot_box(df3, \"Social Media UL (Bytes)\", \"Social Media UL (Bytes) outliers\")"
   ]
  },
  {
   "cell_type": "code",
   "execution_count": null,
   "metadata": {},
   "outputs": [],
   "source": [
    "def plot_multiple_histograms(df, cols):\n",
    "    num_plots = len(cols)\n",
    "    num_cols = math.ceil(np.sqrt(num_plots))\n",
    "    num_rows = math.ceil(num_plots/num_cols)\n",
    "        \n",
    "    fig, axs = plt.subplots(num_rows, num_cols)\n",
    "    \n",
    "    for ind, col in enumerate(cols):\n",
    "        i = math.floor(ind/num_cols)\n",
    "        j = ind - i*num_cols\n",
    "            \n",
    "        if num_rows == 1:\n",
    "            if num_cols == 1:\n",
    "                sns.distplot(df[col], kde=True, ax=axs)\n",
    "            else:\n",
    "                sns.distplot(df[col], kde=True, ax=axs[j])\n",
    "        else:\n",
    "            sns.distplot(df[col], kde=True, ax=axs[i, j])\n",
    "\n",
    "            \n",
    "plot_multiple_histograms(df3, ['Social Media UL (Bytes)', 'Social Media DL (Bytes)', 'Total UL (Bytes)', 'Total DL (Bytes)'])"
   ]
  },
  {
   "cell_type": "markdown",
   "metadata": {},
   "source": [
    "# Bivariate Analysis"
   ]
  },
  {
   "cell_type": "code",
   "execution_count": 208,
   "metadata": {},
   "outputs": [],
   "source": [
    "df4 = pd.DataFrame()"
   ]
  },
  {
   "cell_type": "code",
   "execution_count": 209,
   "metadata": {},
   "outputs": [],
   "source": [
    "df4['sessions'] = df3['Unnamed: 0']\n",
    "df4['Dur. (ms)'] = df3['Dur. (ms)']\n",
    "sum_column1 = df3['Social Media UL (Bytes)'] + df3['Social Media DL (Bytes)']\n",
    "sum_column2 = df3['Google UL (Bytes)'] + df3['Google DL (Bytes)']\n",
    "sum_column3 = df3['Email DL (Bytes)'] + df3['Email UL (Bytes)']\n",
    "sum_column4 = df3['Youtube DL (Bytes)'] + df3['Youtube UL (Bytes)']\n",
    "sum_column5 = df3['Netflix DL (Bytes)'] + df3['Netflix UL (Bytes)']\n",
    "sum_column6 = df3['Gaming UL (Bytes)'] + df3['Gaming DL (Bytes)']\n",
    "sum_column7 = df3['Other DL (Bytes)'] + df3['Other UL (Bytes)']\n",
    "sum_column8 = df3['Total UL (Bytes)'] + df3['Total DL (Bytes)']\n",
    "df4[\"Social Media DL+UL\"] = sum_column1\n",
    "df4[\"Google UL DL+UL\"] = sum_column2\n",
    "df4[\"Email DL+UL\"] = sum_column3\n",
    "df4[\"Youtube DL+UL\"] = sum_column4\n",
    "df4[\"Netflix DL+UL\"] = sum_column5\n",
    "df4[\"Gaming DL+UL\"] = sum_column6\n",
    "df4[\"Other DL+UL\"] = sum_column7\n",
    "df4[\"Total DL+UL\"] = sum_column8\n"
   ]
  },
  {
   "cell_type": "code",
   "execution_count": 211,
   "metadata": {},
   "outputs": [
    {
     "data": {
      "text/html": [
       "<div>\n",
       "<style scoped>\n",
       "    .dataframe tbody tr th:only-of-type {\n",
       "        vertical-align: middle;\n",
       "    }\n",
       "\n",
       "    .dataframe tbody tr th {\n",
       "        vertical-align: top;\n",
       "    }\n",
       "\n",
       "    .dataframe thead th {\n",
       "        text-align: right;\n",
       "    }\n",
       "</style>\n",
       "<table border=\"1\" class=\"dataframe\">\n",
       "  <thead>\n",
       "    <tr style=\"text-align: right;\">\n",
       "      <th></th>\n",
       "      <th>sessions</th>\n",
       "      <th>Dur. (ms)</th>\n",
       "      <th>Social Media DL+UL</th>\n",
       "      <th>Google UL DL+UL</th>\n",
       "      <th>Email DL+UL</th>\n",
       "      <th>Youtube DL+UL</th>\n",
       "      <th>Netflix DL+UL</th>\n",
       "      <th>Gaming DL+UL</th>\n",
       "      <th>Other DL+UL</th>\n",
       "      <th>Total DL+UL</th>\n",
       "    </tr>\n",
       "  </thead>\n",
       "  <tbody>\n",
       "    <tr>\n",
       "      <td>0</td>\n",
       "      <td>0</td>\n",
       "      <td>1,823,652.00</td>\n",
       "      <td>1,570,185.00</td>\n",
       "      <td>2,905,912.00</td>\n",
       "      <td>3,701,304.00</td>\n",
       "      <td>18,355,943.00</td>\n",
       "      <td>17,855,187.00</td>\n",
       "      <td>292,426,453.00</td>\n",
       "      <td>180,558,843.00</td>\n",
       "      <td>345,629,377.00</td>\n",
       "    </tr>\n",
       "    <tr>\n",
       "      <td>1</td>\n",
       "      <td>1</td>\n",
       "      <td>1,365,104.00</td>\n",
       "      <td>1,933,278.00</td>\n",
       "      <td>4,414,096.00</td>\n",
       "      <td>937,385.00</td>\n",
       "      <td>39,359,124.00</td>\n",
       "      <td>35,565,545.00</td>\n",
       "      <td>609,920,783.00</td>\n",
       "      <td>541,959,383.00</td>\n",
       "      <td>707,185,356.00</td>\n",
       "    </tr>\n",
       "    <tr>\n",
       "      <td>2</td>\n",
       "      <td>2</td>\n",
       "      <td>1,361,762.00</td>\n",
       "      <td>1,726,277.00</td>\n",
       "      <td>10,229,119.00</td>\n",
       "      <td>3,363,124.00</td>\n",
       "      <td>34,425,237.00</td>\n",
       "      <td>23,751,202.00</td>\n",
       "      <td>229,980,251.00</td>\n",
       "      <td>414,908,351.00</td>\n",
       "      <td>307,690,973.00</td>\n",
       "    </tr>\n",
       "    <tr>\n",
       "      <td>3</td>\n",
       "      <td>3</td>\n",
       "      <td>1,321,509.00</td>\n",
       "      <td>657,493.00</td>\n",
       "      <td>11,811,761.00</td>\n",
       "      <td>2,070,983.00</td>\n",
       "      <td>36,534,765.00</td>\n",
       "      <td>15,092,588.00</td>\n",
       "      <td>810,387,875.00</td>\n",
       "      <td>761,837,216.00</td>\n",
       "      <td>889,352,748.00</td>\n",
       "    </tr>\n",
       "    <tr>\n",
       "      <td>4</td>\n",
       "      <td>4</td>\n",
       "      <td>1,089,009.00</td>\n",
       "      <td>912,788.00</td>\n",
       "      <td>7,748,843.00</td>\n",
       "      <td>2,110,349.00</td>\n",
       "      <td>34,222,253.00</td>\n",
       "      <td>17,539,799.00</td>\n",
       "      <td>531,237,049.00</td>\n",
       "      <td>564,619,822.00</td>\n",
       "      <td>607,681,403.00</td>\n",
       "    </tr>\n",
       "    <tr>\n",
       "      <td>...</td>\n",
       "      <td>...</td>\n",
       "      <td>...</td>\n",
       "      <td>...</td>\n",
       "      <td>...</td>\n",
       "      <td>...</td>\n",
       "      <td>...</td>\n",
       "      <td>...</td>\n",
       "      <td>...</td>\n",
       "      <td>...</td>\n",
       "      <td>...</td>\n",
       "    </tr>\n",
       "    <tr>\n",
       "      <td>148341</td>\n",
       "      <td>149995</td>\n",
       "      <td>59,587.00</td>\n",
       "      <td>993,175.00</td>\n",
       "      <td>1,265,634.00</td>\n",
       "      <td>4,280,107.00</td>\n",
       "      <td>24,553,645.00</td>\n",
       "      <td>29,618,711.00</td>\n",
       "      <td>797,160,102.00</td>\n",
       "      <td>336,273,648.00</td>\n",
       "      <td>872,761,860.00</td>\n",
       "    </tr>\n",
       "    <tr>\n",
       "      <td>148342</td>\n",
       "      <td>149996</td>\n",
       "      <td>81,230.00</td>\n",
       "      <td>3,517,065.00</td>\n",
       "      <td>12,784,914.00</td>\n",
       "      <td>690,876.00</td>\n",
       "      <td>27,955,095.00</td>\n",
       "      <td>37,561,864.00</td>\n",
       "      <td>535,806,880.00</td>\n",
       "      <td>16,751,926.00</td>\n",
       "      <td>631,804,110.00</td>\n",
       "    </tr>\n",
       "    <tr>\n",
       "      <td>148343</td>\n",
       "      <td>149997</td>\n",
       "      <td>97,970.00</td>\n",
       "      <td>2,352,181.00</td>\n",
       "      <td>4,415,361.00</td>\n",
       "      <td>2,121,718.00</td>\n",
       "      <td>22,165,518.00</td>\n",
       "      <td>40,643,294.00</td>\n",
       "      <td>631,628,095.00</td>\n",
       "      <td>714,638,145.00</td>\n",
       "      <td>705,783,925.00</td>\n",
       "    </tr>\n",
       "    <tr>\n",
       "      <td>148344</td>\n",
       "      <td>149998</td>\n",
       "      <td>98,249.00</td>\n",
       "      <td>1,260,239.00</td>\n",
       "      <td>6,585,469.00</td>\n",
       "      <td>2,058,277.00</td>\n",
       "      <td>24,516,413.00</td>\n",
       "      <td>15,029,702.00</td>\n",
       "      <td>566,933,800.00</td>\n",
       "      <td>132,415,585.00</td>\n",
       "      <td>627,698,629.00</td>\n",
       "    </tr>\n",
       "    <tr>\n",
       "      <td>148345</td>\n",
       "      <td>149999</td>\n",
       "      <td>97,910.00</td>\n",
       "      <td>823,109.00</td>\n",
       "      <td>7,757,267.00</td>\n",
       "      <td>2,850,914.00</td>\n",
       "      <td>17,122,508.00</td>\n",
       "      <td>16,494,842.00</td>\n",
       "      <td>355,066,446.00</td>\n",
       "      <td>816,120,043.00</td>\n",
       "      <td>401,522,016.00</td>\n",
       "    </tr>\n",
       "  </tbody>\n",
       "</table>\n",
       "<p>148346 rows × 10 columns</p>\n",
       "</div>"
      ],
      "text/plain": [
       "        sessions    Dur. (ms)  Social Media DL+UL  Google UL DL+UL  \\\n",
       "0              0 1,823,652.00        1,570,185.00     2,905,912.00   \n",
       "1              1 1,365,104.00        1,933,278.00     4,414,096.00   \n",
       "2              2 1,361,762.00        1,726,277.00    10,229,119.00   \n",
       "3              3 1,321,509.00          657,493.00    11,811,761.00   \n",
       "4              4 1,089,009.00          912,788.00     7,748,843.00   \n",
       "...          ...          ...                 ...              ...   \n",
       "148341    149995    59,587.00          993,175.00     1,265,634.00   \n",
       "148342    149996    81,230.00        3,517,065.00    12,784,914.00   \n",
       "148343    149997    97,970.00        2,352,181.00     4,415,361.00   \n",
       "148344    149998    98,249.00        1,260,239.00     6,585,469.00   \n",
       "148345    149999    97,910.00          823,109.00     7,757,267.00   \n",
       "\n",
       "        Email DL+UL  Youtube DL+UL  Netflix DL+UL   Gaming DL+UL  \\\n",
       "0      3,701,304.00  18,355,943.00  17,855,187.00 292,426,453.00   \n",
       "1        937,385.00  39,359,124.00  35,565,545.00 609,920,783.00   \n",
       "2      3,363,124.00  34,425,237.00  23,751,202.00 229,980,251.00   \n",
       "3      2,070,983.00  36,534,765.00  15,092,588.00 810,387,875.00   \n",
       "4      2,110,349.00  34,222,253.00  17,539,799.00 531,237,049.00   \n",
       "...             ...            ...            ...            ...   \n",
       "148341 4,280,107.00  24,553,645.00  29,618,711.00 797,160,102.00   \n",
       "148342   690,876.00  27,955,095.00  37,561,864.00 535,806,880.00   \n",
       "148343 2,121,718.00  22,165,518.00  40,643,294.00 631,628,095.00   \n",
       "148344 2,058,277.00  24,516,413.00  15,029,702.00 566,933,800.00   \n",
       "148345 2,850,914.00  17,122,508.00  16,494,842.00 355,066,446.00   \n",
       "\n",
       "          Other DL+UL    Total DL+UL  \n",
       "0      180,558,843.00 345,629,377.00  \n",
       "1      541,959,383.00 707,185,356.00  \n",
       "2      414,908,351.00 307,690,973.00  \n",
       "3      761,837,216.00 889,352,748.00  \n",
       "4      564,619,822.00 607,681,403.00  \n",
       "...               ...            ...  \n",
       "148341 336,273,648.00 872,761,860.00  \n",
       "148342  16,751,926.00 631,804,110.00  \n",
       "148343 714,638,145.00 705,783,925.00  \n",
       "148344 132,415,585.00 627,698,629.00  \n",
       "148345 816,120,043.00 401,522,016.00  \n",
       "\n",
       "[148346 rows x 10 columns]"
      ]
     },
     "execution_count": 211,
     "metadata": {},
     "output_type": "execute_result"
    }
   ],
   "source": [
    "df4"
   ]
  },
  {
   "cell_type": "code",
   "execution_count": 215,
   "metadata": {},
   "outputs": [
    {
     "data": {
      "image/png": "[encoded data removed]",
      "text/plain": [
       "<Figure size 864x504 with 1 Axes>"
      ]
     },
     "metadata": {
      "needs_background": "light"
     },
     "output_type": "display_data"
    }
   ],
   "source": [
    "plot_scatter(df4.head(100), x_col=\"Social Media DL+UL\", y_col=\"Total DL+UL\", title=\"Social Media DL+UL vs Total DL+UL\")"
   ]
  },
  {
   "cell_type": "code",
   "execution_count": 219,
   "metadata": {},
   "outputs": [
    {
     "data": {
      "image/png": "[encoded data removed]",
      "text/plain": [
       "<Figure size 864x504 with 1 Axes>"
      ]
     },
     "metadata": {
      "needs_background": "light"
     },
     "output_type": "display_data"
    }
   ],
   "source": [
    "plot_scatter(df4.head(100), x_col=\"Google UL DL+UL\", y_col=\"Total DL+UL\", title=\"Google UL DL+UL vs Total DL+UL\")"
   ]
  },
  {
   "cell_type": "code",
   "execution_count": 221,
   "metadata": {},
   "outputs": [
    {
     "data": {
      "image/png": "[encoded data removed]",
      "text/plain": [
       "<Figure size 864x504 with 1 Axes>"
      ]
     },
     "metadata": {
      "needs_background": "light"
     },
     "output_type": "display_data"
    }
   ],
   "source": [
    "plot_scatter(df4.head(100), x_col=\"Email DL+UL\", y_col=\"Total DL+UL\", title=\"Email UL DL+UL vs Total DL+UL\")"
   ]
  },
  {
   "cell_type": "code",
   "execution_count": 223,
   "metadata": {},
   "outputs": [
    {
     "data": {
      "image/png": "[encoded data removed]",
      "text/plain": [
       "<Figure size 864x504 with 1 Axes>"
      ]
     },
     "metadata": {
      "needs_background": "light"
     },
     "output_type": "display_data"
    }
   ],
   "source": [
    "plot_scatter(df4.head(100), x_col=\"Youtube DL+UL\", y_col=\"Total DL+UL\", title=\"Youtube UL DL+UL vs Total DL+UL\")"
   ]
  },
  {
   "cell_type": "code",
   "execution_count": 225,
   "metadata": {},
   "outputs": [
    {
     "data": {
      "image/png": "[encoded data removed]",
      "text/plain": [
       "<Figure size 864x504 with 1 Axes>"
      ]
     },
     "metadata": {
      "needs_background": "light"
     },
     "output_type": "display_data"
    }
   ],
   "source": [
    "plot_scatter(df4.head(100), x_col=\"Netflix DL+UL\", y_col=\"Total DL+UL\", title=\"Netflix UL DL+UL vs Total DL+UL\")"
   ]
  },
  {
   "cell_type": "code",
   "execution_count": null,
   "metadata": {},
   "outputs": [],
   "source": []
  },
  {
   "cell_type": "markdown",
   "metadata": {},
   "source": [
    "# Variable transformations"
   ]
  },
  {
   "cell_type": "code",
   "execution_count": null,
   "metadata": {},
   "outputs": [],
   "source": []
  },
  {
   "cell_type": "code",
   "execution_count": null,
   "metadata": {},
   "outputs": [],
   "source": []
  },
  {
   "cell_type": "code",
   "execution_count": 228,
   "metadata": {},
   "outputs": [
    {
     "data": {
      "text/plain": [
       "array([2.89561070e+07, 2.41638280e+08, 4.11293045e+08, 5.80651545e+08,\n",
       "       7.49488315e+08])"
      ]
     },
     "execution_count": 228,
     "metadata": {},
     "output_type": "execute_result"
    }
   ],
   "source": [
    "np.percentile(df4['Total DL+UL'], np.arange(0, 100, 20))"
   ]
  },
  {
   "cell_type": "code",
   "execution_count": null,
   "metadata": {},
   "outputs": [],
   "source": []
  },
  {
   "cell_type": "markdown",
   "metadata": {},
   "source": [
    "# Correlation Analysis"
   ]
  },
  {
   "cell_type": "code",
   "execution_count": 229,
   "metadata": {},
   "outputs": [
    {
     "data": {
      "image/png": "[encoded data removed]",
      "text/plain": [
       "<Figure size 864x504 with 1 Axes>"
      ]
     },
     "metadata": {
      "needs_background": "light"
     },
     "output_type": "display_data"
    }
   ],
   "source": [
    "plot_scatter(df4.head(100), x_col=\"Social Media DL+UL\", y_col=\"Google UL DL+UL\", title=\"Social Media DL+UL vs Google UL DL+UL\")"
   ]
  },
  {
   "cell_type": "code",
   "execution_count": 230,
   "metadata": {},
   "outputs": [
    {
     "name": "stdout",
     "output_type": "stream",
     "text": [
      "Pearsons correlation: -0.002\n"
     ]
    }
   ],
   "source": [
    "from scipy.stats import pearsonr\n",
    "\n",
    "corr, _ = pearsonr(df4['Social Media DL+UL'], df4['Google UL DL+UL'])\n",
    "print('Pearsons correlation: %.3f' % corr)"
   ]
  },
  {
   "cell_type": "code",
   "execution_count": 231,
   "metadata": {},
   "outputs": [
    {
     "name": "stdout",
     "output_type": "stream",
     "text": [
      "Spearmans correlation: -0.002\n"
     ]
    }
   ],
   "source": [
    "from scipy.stats import spearmanr\n",
    "\n",
    "corr, _ = spearmanr(df4['Social Media DL+UL'], df4['Google UL DL+UL'])\n",
    "print('Spearmans correlation: %.3f' % corr)"
   ]
  },
  {
   "cell_type": "code",
   "execution_count": 232,
   "metadata": {},
   "outputs": [
    {
     "name": "stdout",
     "output_type": "stream",
     "text": [
      "Pearsons correlation: 0.003\n"
     ]
    }
   ],
   "source": [
    "corr, _ = pearsonr(df4['Netflix DL+UL'], df4['Youtube DL+UL'])\n",
    "print('Pearsons correlation: %.3f' % corr)"
   ]
  },
  {
   "cell_type": "code",
   "execution_count": 233,
   "metadata": {},
   "outputs": [
    {
     "name": "stdout",
     "output_type": "stream",
     "text": [
      "Pearsons correlation: -0.003\n"
     ]
    }
   ],
   "source": [
    "corr, _ = pearsonr(df4['Gaming DL+UL'], df4['Other DL+UL'])\n",
    "print('Pearsons correlation: %.3f' % corr)"
   ]
  },
  {
   "cell_type": "code",
   "execution_count": 234,
   "metadata": {},
   "outputs": [
    {
     "name": "stdout",
     "output_type": "stream",
     "text": [
      "Pearsons correlation: -0.001\n"
     ]
    }
   ],
   "source": [
    "corr, _ = pearsonr(df4['Google UL DL+UL'], df4['Email DL+UL'])\n",
    "print('Pearsons correlation: %.3f' % corr)"
   ]
  },
  {
   "cell_type": "code",
   "execution_count": 236,
   "metadata": {},
   "outputs": [
    {
     "name": "stdout",
     "output_type": "stream",
     "text": [
      "Pearsons correlation: 0.001\n"
     ]
    }
   ],
   "source": [
    "corr, _ = pearsonr(df4['Social Media DL+UL'], df4['Youtube DL+UL'])\n",
    "print('Pearsons correlation: %.3f' % corr)"
   ]
  },
  {
   "cell_type": "code",
   "execution_count": 237,
   "metadata": {},
   "outputs": [
    {
     "name": "stdout",
     "output_type": "stream",
     "text": [
      "Spearmans correlation: -0.002\n"
     ]
    }
   ],
   "source": [
    "corr, _ = spearmanr(df4['Other DL+UL'], df4['Google UL DL+UL'])\n",
    "print('Spearmans correlation: %.3f' % corr)"
   ]
  },
  {
   "cell_type": "markdown",
   "metadata": {},
   "source": [
    "- doing the correlation between two applications can either be postive, negative or neutral\n",
    "- the range is between -1 to +1\n",
    "- the closer to +1 the postive is thier relation(when one goes up the other goes up as well\n",
    "- the closer to -1 the negative it is thier relation(when one goes up the other goes DOWN as well\n",
    "- the data look very independent of each other"
   ]
  },
  {
   "cell_type": "markdown",
   "metadata": {},
   "source": [
    "# Dimensionality Reduction"
   ]
  },
  {
   "cell_type": "code",
   "execution_count": 257,
   "metadata": {},
   "outputs": [],
   "source": [
    "from sklearn.preprocessing import MinMaxScaler\n",
    "\n",
    "def scaler(df):\n",
    "    minmax_scaler = MinMaxScaler(copy=True, feature_range=(-1, 1))\n",
    "    return pd.DataFrame(minmax_scaler.fit_transform(df))\n",
    "\n",
    "df5 = scaler(df4)"
   ]
  },
  {
   "cell_type": "code",
   "execution_count": 258,
   "metadata": {},
   "outputs": [
    {
     "data": {
      "text/html": [
       "<div>\n",
       "<style scoped>\n",
       "    .dataframe tbody tr th:only-of-type {\n",
       "        vertical-align: middle;\n",
       "    }\n",
       "\n",
       "    .dataframe tbody tr th {\n",
       "        vertical-align: top;\n",
       "    }\n",
       "\n",
       "    .dataframe thead th {\n",
       "        text-align: right;\n",
       "    }\n",
       "</style>\n",
       "<table border=\"1\" class=\"dataframe\">\n",
       "  <thead>\n",
       "    <tr style=\"text-align: right;\">\n",
       "      <th></th>\n",
       "      <th>0</th>\n",
       "      <th>1</th>\n",
       "      <th>2</th>\n",
       "      <th>3</th>\n",
       "      <th>4</th>\n",
       "      <th>5</th>\n",
       "      <th>6</th>\n",
       "      <th>7</th>\n",
       "      <th>8</th>\n",
       "      <th>9</th>\n",
       "      <th>10</th>\n",
       "      <th>11</th>\n",
       "      <th>12</th>\n",
       "      <th>13</th>\n",
       "      <th>14</th>\n",
       "      <th>15</th>\n",
       "      <th>16</th>\n",
       "      <th>17</th>\n",
       "      <th>18</th>\n",
       "    </tr>\n",
       "  </thead>\n",
       "  <tbody>\n",
       "    <tr>\n",
       "      <td>0</td>\n",
       "      <td>-1.00</td>\n",
       "      <td>0.96</td>\n",
       "      <td>-0.14</td>\n",
       "      <td>-0.26</td>\n",
       "      <td>-0.71</td>\n",
       "      <td>-0.38</td>\n",
       "      <td>0.99</td>\n",
       "      <td>-0.71</td>\n",
       "      <td>0.36</td>\n",
       "      <td>-0.77</td>\n",
       "      <td>-0.29</td>\n",
       "      <td>-0.12</td>\n",
       "      <td>-0.34</td>\n",
       "      <td>0.73</td>\n",
       "      <td>-0.59</td>\n",
       "      <td>0.06</td>\n",
       "      <td>-0.10</td>\n",
       "      <td>-0.33</td>\n",
       "      <td>-0.32</td>\n",
       "    </tr>\n",
       "    <tr>\n",
       "      <td>1</td>\n",
       "      <td>-1.00</td>\n",
       "      <td>0.47</td>\n",
       "      <td>0.07</td>\n",
       "      <td>-0.78</td>\n",
       "      <td>-0.39</td>\n",
       "      <td>-0.55</td>\n",
       "      <td>-0.65</td>\n",
       "      <td>-0.34</td>\n",
       "      <td>0.74</td>\n",
       "      <td>0.74</td>\n",
       "      <td>0.58</td>\n",
       "      <td>0.57</td>\n",
       "      <td>0.44</td>\n",
       "      <td>-0.86</td>\n",
       "      <td>0.25</td>\n",
       "      <td>0.82</td>\n",
       "      <td>0.35</td>\n",
       "      <td>0.44</td>\n",
       "      <td>0.46</td>\n",
       "    </tr>\n",
       "    <tr>\n",
       "      <td>2</td>\n",
       "      <td>-1.00</td>\n",
       "      <td>0.46</td>\n",
       "      <td>-0.06</td>\n",
       "      <td>0.28</td>\n",
       "      <td>0.49</td>\n",
       "      <td>-0.18</td>\n",
       "      <td>0.50</td>\n",
       "      <td>0.44</td>\n",
       "      <td>0.70</td>\n",
       "      <td>0.34</td>\n",
       "      <td>0.51</td>\n",
       "      <td>-0.44</td>\n",
       "      <td>-0.46</td>\n",
       "      <td>-0.95</td>\n",
       "      <td>-0.03</td>\n",
       "      <td>-0.49</td>\n",
       "      <td>-0.34</td>\n",
       "      <td>-0.39</td>\n",
       "      <td>-0.40</td>\n",
       "    </tr>\n",
       "    <tr>\n",
       "      <td>3</td>\n",
       "      <td>-1.00</td>\n",
       "      <td>0.42</td>\n",
       "      <td>-0.64</td>\n",
       "      <td>-0.59</td>\n",
       "      <td>0.57</td>\n",
       "      <td>0.35</td>\n",
       "      <td>-0.20</td>\n",
       "      <td>0.35</td>\n",
       "      <td>0.84</td>\n",
       "      <td>0.38</td>\n",
       "      <td>0.20</td>\n",
       "      <td>-0.90</td>\n",
       "      <td>0.90</td>\n",
       "      <td>0.31</td>\n",
       "      <td>0.78</td>\n",
       "      <td>0.55</td>\n",
       "      <td>0.07</td>\n",
       "      <td>0.87</td>\n",
       "      <td>0.86</td>\n",
       "    </tr>\n",
       "    <tr>\n",
       "      <td>4</td>\n",
       "      <td>-1.00</td>\n",
       "      <td>0.17</td>\n",
       "      <td>-0.52</td>\n",
       "      <td>0.52</td>\n",
       "      <td>0.09</td>\n",
       "      <td>-0.27</td>\n",
       "      <td>0.08</td>\n",
       "      <td>-0.63</td>\n",
       "      <td>0.31</td>\n",
       "      <td>0.72</td>\n",
       "      <td>0.47</td>\n",
       "      <td>-0.96</td>\n",
       "      <td>0.25</td>\n",
       "      <td>-0.57</td>\n",
       "      <td>0.31</td>\n",
       "      <td>0.68</td>\n",
       "      <td>-0.05</td>\n",
       "      <td>0.25</td>\n",
       "      <td>0.25</td>\n",
       "    </tr>\n",
       "    <tr>\n",
       "      <td>...</td>\n",
       "      <td>...</td>\n",
       "      <td>...</td>\n",
       "      <td>...</td>\n",
       "      <td>...</td>\n",
       "      <td>...</td>\n",
       "      <td>...</td>\n",
       "      <td>...</td>\n",
       "      <td>...</td>\n",
       "      <td>...</td>\n",
       "      <td>...</td>\n",
       "      <td>...</td>\n",
       "      <td>...</td>\n",
       "      <td>...</td>\n",
       "      <td>...</td>\n",
       "      <td>...</td>\n",
       "      <td>...</td>\n",
       "      <td>...</td>\n",
       "      <td>...</td>\n",
       "      <td>...</td>\n",
       "    </tr>\n",
       "    <tr>\n",
       "      <td>148341</td>\n",
       "      <td>1.00</td>\n",
       "      <td>-0.94</td>\n",
       "      <td>-0.46</td>\n",
       "      <td>-0.06</td>\n",
       "      <td>-0.80</td>\n",
       "      <td>-0.94</td>\n",
       "      <td>0.93</td>\n",
       "      <td>0.75</td>\n",
       "      <td>-0.44</td>\n",
       "      <td>0.64</td>\n",
       "      <td>0.93</td>\n",
       "      <td>-0.35</td>\n",
       "      <td>0.86</td>\n",
       "      <td>0.54</td>\n",
       "      <td>-0.24</td>\n",
       "      <td>0.80</td>\n",
       "      <td>0.35</td>\n",
       "      <td>0.81</td>\n",
       "      <td>0.82</td>\n",
       "    </tr>\n",
       "    <tr>\n",
       "      <td>148342</td>\n",
       "      <td>1.00</td>\n",
       "      <td>-0.92</td>\n",
       "      <td>0.93</td>\n",
       "      <td>0.58</td>\n",
       "      <td>0.74</td>\n",
       "      <td>0.37</td>\n",
       "      <td>-0.97</td>\n",
       "      <td>0.35</td>\n",
       "      <td>0.39</td>\n",
       "      <td>0.07</td>\n",
       "      <td>0.54</td>\n",
       "      <td>0.79</td>\n",
       "      <td>0.25</td>\n",
       "      <td>0.11</td>\n",
       "      <td>-0.99</td>\n",
       "      <td>0.63</td>\n",
       "      <td>0.45</td>\n",
       "      <td>0.27</td>\n",
       "      <td>0.30</td>\n",
       "    </tr>\n",
       "    <tr>\n",
       "      <td>148343</td>\n",
       "      <td>1.00</td>\n",
       "      <td>-0.90</td>\n",
       "      <td>0.31</td>\n",
       "      <td>-0.77</td>\n",
       "      <td>-0.61</td>\n",
       "      <td>0.06</td>\n",
       "      <td>0.09</td>\n",
       "      <td>-0.64</td>\n",
       "      <td>0.19</td>\n",
       "      <td>-0.25</td>\n",
       "      <td>0.66</td>\n",
       "      <td>0.93</td>\n",
       "      <td>0.49</td>\n",
       "      <td>-0.43</td>\n",
       "      <td>0.69</td>\n",
       "      <td>-0.70</td>\n",
       "      <td>-0.04</td>\n",
       "      <td>0.47</td>\n",
       "      <td>0.46</td>\n",
       "    </tr>\n",
       "    <tr>\n",
       "      <td>148344</td>\n",
       "      <td>1.00</td>\n",
       "      <td>-0.90</td>\n",
       "      <td>-0.31</td>\n",
       "      <td>-0.56</td>\n",
       "      <td>-0.33</td>\n",
       "      <td>0.33</td>\n",
       "      <td>-0.15</td>\n",
       "      <td>0.14</td>\n",
       "      <td>0.95</td>\n",
       "      <td>-0.83</td>\n",
       "      <td>-0.14</td>\n",
       "      <td>-0.54</td>\n",
       "      <td>0.31</td>\n",
       "      <td>0.62</td>\n",
       "      <td>-0.71</td>\n",
       "      <td>0.37</td>\n",
       "      <td>-0.15</td>\n",
       "      <td>0.31</td>\n",
       "      <td>0.29</td>\n",
       "    </tr>\n",
       "    <tr>\n",
       "      <td>148345</td>\n",
       "      <td>1.00</td>\n",
       "      <td>-0.90</td>\n",
       "      <td>-0.55</td>\n",
       "      <td>-0.35</td>\n",
       "      <td>-0.27</td>\n",
       "      <td>0.73</td>\n",
       "      <td>0.24</td>\n",
       "      <td>0.33</td>\n",
       "      <td>-0.24</td>\n",
       "      <td>-0.25</td>\n",
       "      <td>-0.71</td>\n",
       "      <td>0.20</td>\n",
       "      <td>-0.16</td>\n",
       "      <td>-0.69</td>\n",
       "      <td>0.93</td>\n",
       "      <td>-0.83</td>\n",
       "      <td>-0.29</td>\n",
       "      <td>-0.19</td>\n",
       "      <td>-0.20</td>\n",
       "    </tr>\n",
       "  </tbody>\n",
       "</table>\n",
       "<p>148346 rows × 19 columns</p>\n",
       "</div>"
      ],
      "text/plain": [
       "           0     1     2     3     4     5     6     7     8     9    10  \\\n",
       "0      -1.00  0.96 -0.14 -0.26 -0.71 -0.38  0.99 -0.71  0.36 -0.77 -0.29   \n",
       "1      -1.00  0.47  0.07 -0.78 -0.39 -0.55 -0.65 -0.34  0.74  0.74  0.58   \n",
       "2      -1.00  0.46 -0.06  0.28  0.49 -0.18  0.50  0.44  0.70  0.34  0.51   \n",
       "3      -1.00  0.42 -0.64 -0.59  0.57  0.35 -0.20  0.35  0.84  0.38  0.20   \n",
       "4      -1.00  0.17 -0.52  0.52  0.09 -0.27  0.08 -0.63  0.31  0.72  0.47   \n",
       "...      ...   ...   ...   ...   ...   ...   ...   ...   ...   ...   ...   \n",
       "148341  1.00 -0.94 -0.46 -0.06 -0.80 -0.94  0.93  0.75 -0.44  0.64  0.93   \n",
       "148342  1.00 -0.92  0.93  0.58  0.74  0.37 -0.97  0.35  0.39  0.07  0.54   \n",
       "148343  1.00 -0.90  0.31 -0.77 -0.61  0.06  0.09 -0.64  0.19 -0.25  0.66   \n",
       "148344  1.00 -0.90 -0.31 -0.56 -0.33  0.33 -0.15  0.14  0.95 -0.83 -0.14   \n",
       "148345  1.00 -0.90 -0.55 -0.35 -0.27  0.73  0.24  0.33 -0.24 -0.25 -0.71   \n",
       "\n",
       "          11    12    13    14    15    16    17    18  \n",
       "0      -0.12 -0.34  0.73 -0.59  0.06 -0.10 -0.33 -0.32  \n",
       "1       0.57  0.44 -0.86  0.25  0.82  0.35  0.44  0.46  \n",
       "2      -0.44 -0.46 -0.95 -0.03 -0.49 -0.34 -0.39 -0.40  \n",
       "3      -0.90  0.90  0.31  0.78  0.55  0.07  0.87  0.86  \n",
       "4      -0.96  0.25 -0.57  0.31  0.68 -0.05  0.25  0.25  \n",
       "...      ...   ...   ...   ...   ...   ...   ...   ...  \n",
       "148341 -0.35  0.86  0.54 -0.24  0.80  0.35  0.81  0.82  \n",
       "148342  0.79  0.25  0.11 -0.99  0.63  0.45  0.27  0.30  \n",
       "148343  0.93  0.49 -0.43  0.69 -0.70 -0.04  0.47  0.46  \n",
       "148344 -0.54  0.31  0.62 -0.71  0.37 -0.15  0.31  0.29  \n",
       "148345  0.20 -0.16 -0.69  0.93 -0.83 -0.29 -0.19 -0.20  \n",
       "\n",
       "[148346 rows x 19 columns]"
      ]
     },
     "execution_count": 258,
     "metadata": {},
     "output_type": "execute_result"
    }
   ],
   "source": [
    "d5"
   ]
  },
  {
   "cell_type": "code",
   "execution_count": 259,
   "metadata": {},
   "outputs": [],
   "source": [
    "from sklearn.decomposition import PCA\n",
    "pca = PCA(n_components = 2)\n",
    "df5 = pca.fit_transform(d5)\n"
   ]
  },
  {
   "cell_type": "code",
   "execution_count": 255,
   "metadata": {},
   "outputs": [
    {
     "data": {
      "text/plain": [
       "array([0.56717469, 0.4613171 , 0.51525554])"
      ]
     },
     "execution_count": 255,
     "metadata": {},
     "output_type": "execute_result"
    }
   ],
   "source": [
    "df5.head"
   ]
  },
  {
   "cell_type": "markdown",
   "metadata": {},
   "source": [
    "- PCA is very famous Dimensionality Reduction Technique\n",
    "- it can benefit for faster training the model as well as clearer visulaziation\n",
    "- before the pca is done it should be scaled\n",
    "- finally i have projected into a space with 2 columns"
   ]
  },
  {
   "cell_type": "code",
   "execution_count": null,
   "metadata": {},
   "outputs": [],
   "source": []
  }
 ],
 "metadata": {
  "kernelspec": {
   "display_name": "Python 3",
   "language": "python",
   "name": "python3"
  },
  "language_info": {
   "codemirror_mode": {
    "name": "ipython",
    "version": 3
   },
   "file_extension": ".py",
   "mimetype": "text/x-python",
   "name": "python",
   "nbconvert_exporter": "python",
   "pygments_lexer": "ipython3",
   "version": "3.7.4"
  }
 },
 "nbformat": 4,
 "nbformat_minor": 2
}
