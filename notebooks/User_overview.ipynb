{
 "cells": [
  {
   "cell_type": "code",
   "execution_count": 1,
   "metadata": {},
   "outputs": [],
   "source": [
    "import pandas as pd\n",
    "import numpy as np"
   ]
  },
  {
   "cell_type": "code",
   "execution_count": 2,
   "metadata": {},
   "outputs": [
    {
     "data": {
      "text/html": [
       "<div>\n",
       "<style scoped>\n",
       "    .dataframe tbody tr th:only-of-type {\n",
       "        vertical-align: middle;\n",
       "    }\n",
       "\n",
       "    .dataframe tbody tr th {\n",
       "        vertical-align: top;\n",
       "    }\n",
       "\n",
       "    .dataframe thead th {\n",
       "        text-align: right;\n",
       "    }\n",
       "</style>\n",
       "<table border=\"1\" class=\"dataframe\">\n",
       "  <thead>\n",
       "    <tr style=\"text-align: right;\">\n",
       "      <th></th>\n",
       "      <th>Unnamed: 0</th>\n",
       "      <th>Bearer Id</th>\n",
       "      <th>Start</th>\n",
       "      <th>Start ms</th>\n",
       "      <th>End</th>\n",
       "      <th>End ms</th>\n",
       "      <th>Dur. (ms)</th>\n",
       "      <th>IMSI</th>\n",
       "      <th>MSISDN/Number</th>\n",
       "      <th>IMEI</th>\n",
       "      <th>Last Location Name</th>\n",
       "      <th>Avg RTT DL (ms)</th>\n",
       "      <th>Avg RTT UL (ms)</th>\n",
       "      <th>Avg Bearer TP DL (kbps)</th>\n",
       "      <th>Avg Bearer TP UL (kbps)</th>\n",
       "      <th>DL TP &lt; 50 Kbps (%)</th>\n",
       "      <th>50 Kbps &lt; DL TP &lt; 250 Kbps (%)</th>\n",
       "      <th>250 Kbps &lt; DL TP &lt; 1 Mbps (%)</th>\n",
       "      <th>DL TP &gt; 1 Mbps (%)</th>\n",
       "      <th>UL TP &lt; 10 Kbps (%)</th>\n",
       "      <th>10 Kbps &lt; UL TP &lt; 50 Kbps (%)</th>\n",
       "      <th>50 Kbps &lt; UL TP &lt; 300 Kbps (%)</th>\n",
       "      <th>UL TP &gt; 300 Kbps (%)</th>\n",
       "      <th>Activity Duration DL (ms)</th>\n",
       "      <th>Activity Duration UL (ms)</th>\n",
       "      <th>Handset Manufacturer</th>\n",
       "      <th>Handset Type</th>\n",
       "      <th>Nb of sec with Vol DL &lt; 6250B</th>\n",
       "      <th>Nb of sec with Vol UL &lt; 1250B</th>\n",
       "      <th>Social Media DL (Bytes)</th>\n",
       "      <th>Social Media UL (Bytes)</th>\n",
       "      <th>Google DL (Bytes)</th>\n",
       "      <th>Google UL (Bytes)</th>\n",
       "      <th>Email DL (Bytes)</th>\n",
       "      <th>Email UL (Bytes)</th>\n",
       "      <th>Youtube DL (Bytes)</th>\n",
       "      <th>Youtube UL (Bytes)</th>\n",
       "      <th>Netflix DL (Bytes)</th>\n",
       "      <th>Netflix UL (Bytes)</th>\n",
       "      <th>Gaming DL (Bytes)</th>\n",
       "      <th>Gaming UL (Bytes)</th>\n",
       "      <th>Other DL (Bytes)</th>\n",
       "      <th>Other UL (Bytes)</th>\n",
       "      <th>Total UL (Bytes)</th>\n",
       "      <th>Total DL (Bytes)</th>\n",
       "    </tr>\n",
       "  </thead>\n",
       "  <tbody>\n",
       "    <tr>\n",
       "      <td>0</td>\n",
       "      <td>0</td>\n",
       "      <td>1.311448e+19</td>\n",
       "      <td>2019-04-04 12:01:00</td>\n",
       "      <td>770.0</td>\n",
       "      <td>2019-04-25 14:35:00</td>\n",
       "      <td>662.0</td>\n",
       "      <td>1823652.0</td>\n",
       "      <td>2.082014e+14</td>\n",
       "      <td>3.366496e+10</td>\n",
       "      <td>3.552121e+13</td>\n",
       "      <td>9.16456699548519E+015</td>\n",
       "      <td>42.0</td>\n",
       "      <td>5.0</td>\n",
       "      <td>23.0</td>\n",
       "      <td>44.0</td>\n",
       "      <td>100.0</td>\n",
       "      <td>0.0</td>\n",
       "      <td>0.0</td>\n",
       "      <td>0.0</td>\n",
       "      <td>100.0</td>\n",
       "      <td>0.0</td>\n",
       "      <td>0.0</td>\n",
       "      <td>0.0</td>\n",
       "      <td>37624.0</td>\n",
       "      <td>38787.0</td>\n",
       "      <td>Samsung</td>\n",
       "      <td>Samsung Galaxy A5 Sm-A520F</td>\n",
       "      <td>213.0</td>\n",
       "      <td>214.0</td>\n",
       "      <td>1.545765</td>\n",
       "      <td>0.024420</td>\n",
       "      <td>1.634479</td>\n",
       "      <td>1.271433</td>\n",
       "      <td>3.563542</td>\n",
       "      <td>0.137762</td>\n",
       "      <td>15.854611</td>\n",
       "      <td>2.501332</td>\n",
       "      <td>8.198936</td>\n",
       "      <td>9.656251</td>\n",
       "      <td>278.082303</td>\n",
       "      <td>14.344150</td>\n",
       "      <td>171.744450</td>\n",
       "      <td>8.814393</td>\n",
       "      <td>36.749741</td>\n",
       "      <td>308.879636</td>\n",
       "    </tr>\n",
       "    <tr>\n",
       "      <td>1</td>\n",
       "      <td>1</td>\n",
       "      <td>1.311448e+19</td>\n",
       "      <td>2019-04-09 13:04:00</td>\n",
       "      <td>235.0</td>\n",
       "      <td>2019-04-25 08:15:00</td>\n",
       "      <td>606.0</td>\n",
       "      <td>1365104.0</td>\n",
       "      <td>2.082019e+14</td>\n",
       "      <td>3.368185e+10</td>\n",
       "      <td>3.579401e+13</td>\n",
       "      <td>L77566A</td>\n",
       "      <td>65.0</td>\n",
       "      <td>5.0</td>\n",
       "      <td>16.0</td>\n",
       "      <td>26.0</td>\n",
       "      <td>100.0</td>\n",
       "      <td>0.0</td>\n",
       "      <td>0.0</td>\n",
       "      <td>0.0</td>\n",
       "      <td>100.0</td>\n",
       "      <td>0.0</td>\n",
       "      <td>0.0</td>\n",
       "      <td>0.0</td>\n",
       "      <td>168.0</td>\n",
       "      <td>3560.0</td>\n",
       "      <td>Samsung</td>\n",
       "      <td>Samsung Galaxy J5 (Sm-J530)</td>\n",
       "      <td>971.0</td>\n",
       "      <td>1022.0</td>\n",
       "      <td>1.926113</td>\n",
       "      <td>0.007165</td>\n",
       "      <td>3.493924</td>\n",
       "      <td>0.920172</td>\n",
       "      <td>0.629046</td>\n",
       "      <td>0.308339</td>\n",
       "      <td>20.247395</td>\n",
       "      <td>19.111729</td>\n",
       "      <td>18.338413</td>\n",
       "      <td>17.227132</td>\n",
       "      <td>608.750074</td>\n",
       "      <td>1.170709</td>\n",
       "      <td>526.904238</td>\n",
       "      <td>15.055145</td>\n",
       "      <td>53.800391</td>\n",
       "      <td>653.384965</td>\n",
       "    </tr>\n",
       "    <tr>\n",
       "      <td>2</td>\n",
       "      <td>2</td>\n",
       "      <td>1.311448e+19</td>\n",
       "      <td>2019-04-09 17:42:00</td>\n",
       "      <td>1.0</td>\n",
       "      <td>2019-04-25 11:58:00</td>\n",
       "      <td>652.0</td>\n",
       "      <td>1361762.0</td>\n",
       "      <td>2.082003e+14</td>\n",
       "      <td>3.376063e+10</td>\n",
       "      <td>3.528151e+13</td>\n",
       "      <td>D42335A</td>\n",
       "      <td>45.0</td>\n",
       "      <td>5.0</td>\n",
       "      <td>6.0</td>\n",
       "      <td>9.0</td>\n",
       "      <td>100.0</td>\n",
       "      <td>0.0</td>\n",
       "      <td>0.0</td>\n",
       "      <td>0.0</td>\n",
       "      <td>100.0</td>\n",
       "      <td>0.0</td>\n",
       "      <td>0.0</td>\n",
       "      <td>0.0</td>\n",
       "      <td>0.0</td>\n",
       "      <td>0.0</td>\n",
       "      <td>Samsung</td>\n",
       "      <td>Samsung Galaxy A8 (2018)</td>\n",
       "      <td>751.0</td>\n",
       "      <td>695.0</td>\n",
       "      <td>1.684053</td>\n",
       "      <td>0.042224</td>\n",
       "      <td>8.535055</td>\n",
       "      <td>1.694064</td>\n",
       "      <td>2.690151</td>\n",
       "      <td>0.672973</td>\n",
       "      <td>19.725661</td>\n",
       "      <td>14.699576</td>\n",
       "      <td>17.587794</td>\n",
       "      <td>6.163408</td>\n",
       "      <td>229.584621</td>\n",
       "      <td>0.395630</td>\n",
       "      <td>410.692588</td>\n",
       "      <td>4.215763</td>\n",
       "      <td>27.883638</td>\n",
       "      <td>279.807335</td>\n",
       "    </tr>\n",
       "    <tr>\n",
       "      <td>3</td>\n",
       "      <td>3</td>\n",
       "      <td>1.311448e+19</td>\n",
       "      <td>2019-04-10 00:31:00</td>\n",
       "      <td>486.0</td>\n",
       "      <td>2019-04-25 07:36:00</td>\n",
       "      <td>171.0</td>\n",
       "      <td>1321509.0</td>\n",
       "      <td>2.082014e+14</td>\n",
       "      <td>3.375034e+10</td>\n",
       "      <td>3.535661e+13</td>\n",
       "      <td>T21824A</td>\n",
       "      <td>45.0</td>\n",
       "      <td>5.0</td>\n",
       "      <td>44.0</td>\n",
       "      <td>44.0</td>\n",
       "      <td>100.0</td>\n",
       "      <td>0.0</td>\n",
       "      <td>0.0</td>\n",
       "      <td>0.0</td>\n",
       "      <td>100.0</td>\n",
       "      <td>0.0</td>\n",
       "      <td>0.0</td>\n",
       "      <td>0.0</td>\n",
       "      <td>3330.0</td>\n",
       "      <td>37882.0</td>\n",
       "      <td>undefined</td>\n",
       "      <td>undefined</td>\n",
       "      <td>17.0</td>\n",
       "      <td>207.0</td>\n",
       "      <td>0.644121</td>\n",
       "      <td>0.013372</td>\n",
       "      <td>9.023734</td>\n",
       "      <td>2.788027</td>\n",
       "      <td>1.439754</td>\n",
       "      <td>0.631229</td>\n",
       "      <td>21.388122</td>\n",
       "      <td>15.146643</td>\n",
       "      <td>13.994646</td>\n",
       "      <td>1.097942</td>\n",
       "      <td>799.538153</td>\n",
       "      <td>10.849722</td>\n",
       "      <td>749.039933</td>\n",
       "      <td>12.797283</td>\n",
       "      <td>43.324218</td>\n",
       "      <td>846.028530</td>\n",
       "    </tr>\n",
       "    <tr>\n",
       "      <td>4</td>\n",
       "      <td>4</td>\n",
       "      <td>1.311448e+19</td>\n",
       "      <td>2019-04-12 20:10:00</td>\n",
       "      <td>565.0</td>\n",
       "      <td>2019-04-25 10:40:00</td>\n",
       "      <td>954.0</td>\n",
       "      <td>1089009.0</td>\n",
       "      <td>2.082014e+14</td>\n",
       "      <td>3.369980e+10</td>\n",
       "      <td>3.540701e+13</td>\n",
       "      <td>D88865A</td>\n",
       "      <td>45.0</td>\n",
       "      <td>5.0</td>\n",
       "      <td>6.0</td>\n",
       "      <td>9.0</td>\n",
       "      <td>100.0</td>\n",
       "      <td>0.0</td>\n",
       "      <td>0.0</td>\n",
       "      <td>0.0</td>\n",
       "      <td>100.0</td>\n",
       "      <td>0.0</td>\n",
       "      <td>0.0</td>\n",
       "      <td>0.0</td>\n",
       "      <td>0.0</td>\n",
       "      <td>0.0</td>\n",
       "      <td>Samsung</td>\n",
       "      <td>Samsung Sm-G390F</td>\n",
       "      <td>607.0</td>\n",
       "      <td>604.0</td>\n",
       "      <td>0.862600</td>\n",
       "      <td>0.050188</td>\n",
       "      <td>6.248284</td>\n",
       "      <td>1.500559</td>\n",
       "      <td>1.936496</td>\n",
       "      <td>0.173853</td>\n",
       "      <td>15.259380</td>\n",
       "      <td>18.962873</td>\n",
       "      <td>17.124581</td>\n",
       "      <td>0.415218</td>\n",
       "      <td>527.707248</td>\n",
       "      <td>3.529801</td>\n",
       "      <td>550.709500</td>\n",
       "      <td>13.910322</td>\n",
       "      <td>38.542814</td>\n",
       "      <td>569.138589</td>\n",
       "    </tr>\n",
       "  </tbody>\n",
       "</table>\n",
       "</div>"
      ],
      "text/plain": [
       "   Unnamed: 0     Bearer Id                Start  Start ms  \\\n",
       "0           0  1.311448e+19  2019-04-04 12:01:00     770.0   \n",
       "1           1  1.311448e+19  2019-04-09 13:04:00     235.0   \n",
       "2           2  1.311448e+19  2019-04-09 17:42:00       1.0   \n",
       "3           3  1.311448e+19  2019-04-10 00:31:00     486.0   \n",
       "4           4  1.311448e+19  2019-04-12 20:10:00     565.0   \n",
       "\n",
       "                   End  End ms  Dur. (ms)          IMSI  MSISDN/Number  \\\n",
       "0  2019-04-25 14:35:00   662.0  1823652.0  2.082014e+14   3.366496e+10   \n",
       "1  2019-04-25 08:15:00   606.0  1365104.0  2.082019e+14   3.368185e+10   \n",
       "2  2019-04-25 11:58:00   652.0  1361762.0  2.082003e+14   3.376063e+10   \n",
       "3  2019-04-25 07:36:00   171.0  1321509.0  2.082014e+14   3.375034e+10   \n",
       "4  2019-04-25 10:40:00   954.0  1089009.0  2.082014e+14   3.369980e+10   \n",
       "\n",
       "           IMEI     Last Location Name  Avg RTT DL (ms)  Avg RTT UL (ms)  \\\n",
       "0  3.552121e+13  9.16456699548519E+015             42.0              5.0   \n",
       "1  3.579401e+13                L77566A             65.0              5.0   \n",
       "2  3.528151e+13                D42335A             45.0              5.0   \n",
       "3  3.535661e+13                T21824A             45.0              5.0   \n",
       "4  3.540701e+13                D88865A             45.0              5.0   \n",
       "\n",
       "   Avg Bearer TP DL (kbps)  Avg Bearer TP UL (kbps)  DL TP < 50 Kbps (%)  \\\n",
       "0                     23.0                     44.0                100.0   \n",
       "1                     16.0                     26.0                100.0   \n",
       "2                      6.0                      9.0                100.0   \n",
       "3                     44.0                     44.0                100.0   \n",
       "4                      6.0                      9.0                100.0   \n",
       "\n",
       "   50 Kbps < DL TP < 250 Kbps (%)  250 Kbps < DL TP < 1 Mbps (%)  \\\n",
       "0                             0.0                            0.0   \n",
       "1                             0.0                            0.0   \n",
       "2                             0.0                            0.0   \n",
       "3                             0.0                            0.0   \n",
       "4                             0.0                            0.0   \n",
       "\n",
       "   DL TP > 1 Mbps (%)  UL TP < 10 Kbps (%)  10 Kbps < UL TP < 50 Kbps (%)  \\\n",
       "0                 0.0                100.0                            0.0   \n",
       "1                 0.0                100.0                            0.0   \n",
       "2                 0.0                100.0                            0.0   \n",
       "3                 0.0                100.0                            0.0   \n",
       "4                 0.0                100.0                            0.0   \n",
       "\n",
       "   50 Kbps < UL TP < 300 Kbps (%)  UL TP > 300 Kbps (%)  \\\n",
       "0                             0.0                   0.0   \n",
       "1                             0.0                   0.0   \n",
       "2                             0.0                   0.0   \n",
       "3                             0.0                   0.0   \n",
       "4                             0.0                   0.0   \n",
       "\n",
       "   Activity Duration DL (ms)  Activity Duration UL (ms) Handset Manufacturer  \\\n",
       "0                    37624.0                    38787.0              Samsung   \n",
       "1                      168.0                     3560.0              Samsung   \n",
       "2                        0.0                        0.0              Samsung   \n",
       "3                     3330.0                    37882.0            undefined   \n",
       "4                        0.0                        0.0              Samsung   \n",
       "\n",
       "                  Handset Type  Nb of sec with Vol DL < 6250B  \\\n",
       "0   Samsung Galaxy A5 Sm-A520F                          213.0   \n",
       "1  Samsung Galaxy J5 (Sm-J530)                          971.0   \n",
       "2     Samsung Galaxy A8 (2018)                          751.0   \n",
       "3                    undefined                           17.0   \n",
       "4             Samsung Sm-G390F                          607.0   \n",
       "\n",
       "   Nb of sec with Vol UL < 1250B  Social Media DL (Bytes)  \\\n",
       "0                          214.0                 1.545765   \n",
       "1                         1022.0                 1.926113   \n",
       "2                          695.0                 1.684053   \n",
       "3                          207.0                 0.644121   \n",
       "4                          604.0                 0.862600   \n",
       "\n",
       "   Social Media UL (Bytes)  Google DL (Bytes)  Google UL (Bytes)  \\\n",
       "0                 0.024420           1.634479           1.271433   \n",
       "1                 0.007165           3.493924           0.920172   \n",
       "2                 0.042224           8.535055           1.694064   \n",
       "3                 0.013372           9.023734           2.788027   \n",
       "4                 0.050188           6.248284           1.500559   \n",
       "\n",
       "   Email DL (Bytes)  Email UL (Bytes)  Youtube DL (Bytes)  Youtube UL (Bytes)  \\\n",
       "0          3.563542          0.137762           15.854611            2.501332   \n",
       "1          0.629046          0.308339           20.247395           19.111729   \n",
       "2          2.690151          0.672973           19.725661           14.699576   \n",
       "3          1.439754          0.631229           21.388122           15.146643   \n",
       "4          1.936496          0.173853           15.259380           18.962873   \n",
       "\n",
       "   Netflix DL (Bytes)  Netflix UL (Bytes)  Gaming DL (Bytes)  \\\n",
       "0            8.198936            9.656251         278.082303   \n",
       "1           18.338413           17.227132         608.750074   \n",
       "2           17.587794            6.163408         229.584621   \n",
       "3           13.994646            1.097942         799.538153   \n",
       "4           17.124581            0.415218         527.707248   \n",
       "\n",
       "   Gaming UL (Bytes)  Other DL (Bytes)  Other UL (Bytes)  Total UL (Bytes)  \\\n",
       "0          14.344150        171.744450          8.814393         36.749741   \n",
       "1           1.170709        526.904238         15.055145         53.800391   \n",
       "2           0.395630        410.692588          4.215763         27.883638   \n",
       "3          10.849722        749.039933         12.797283         43.324218   \n",
       "4           3.529801        550.709500         13.910322         38.542814   \n",
       "\n",
       "   Total DL (Bytes)  \n",
       "0        308.879636  \n",
       "1        653.384965  \n",
       "2        279.807335  \n",
       "3        846.028530  \n",
       "4        569.138589  "
      ]
     },
     "execution_count": 2,
     "metadata": {},
     "output_type": "execute_result"
    }
   ],
   "source": [
    "import warnings\n",
    "warnings.filterwarnings('ignore')\n",
    "pd.set_option('max_column', None)\n",
    "db = pd.read_csv(r'C:\\Users\\sam\\Desktop\\Telecommunication_data_analysis\\data\\cleaned_data.csv', engine = 'python')\n",
    "db.head()"
   ]
  },
  {
   "cell_type": "code",
   "execution_count": 4,
   "metadata": {},
   "outputs": [
    {
     "name": "stdout",
     "output_type": "stream",
     "text": [
      "<class 'pandas.core.frame.DataFrame'>\n",
      "RangeIndex: 148346 entries, 0 to 148345\n",
      "Data columns (total 45 columns):\n",
      "Unnamed: 0                        148346 non-null int64\n",
      "Bearer Id                         148346 non-null float64\n",
      "Start                             148346 non-null object\n",
      "Start ms                          148346 non-null float64\n",
      "End                               148346 non-null object\n",
      "End ms                            148346 non-null float64\n",
      "Dur. (ms)                         148346 non-null float64\n",
      "IMSI                              148346 non-null float64\n",
      "MSISDN/Number                     148346 non-null float64\n",
      "IMEI                              148346 non-null float64\n",
      "Last Location Name                148346 non-null object\n",
      "Avg RTT DL (ms)                   148346 non-null float64\n",
      "Avg RTT UL (ms)                   148346 non-null float64\n",
      "Avg Bearer TP DL (kbps)           148346 non-null float64\n",
      "Avg Bearer TP UL (kbps)           148346 non-null float64\n",
      "DL TP < 50 Kbps (%)               148346 non-null float64\n",
      "50 Kbps < DL TP < 250 Kbps (%)    148346 non-null float64\n",
      "250 Kbps < DL TP < 1 Mbps (%)     148346 non-null float64\n",
      "DL TP > 1 Mbps (%)                148346 non-null float64\n",
      "UL TP < 10 Kbps (%)               148346 non-null float64\n",
      "10 Kbps < UL TP < 50 Kbps (%)     148346 non-null float64\n",
      "50 Kbps < UL TP < 300 Kbps (%)    148346 non-null float64\n",
      "UL TP > 300 Kbps (%)              148346 non-null float64\n",
      "Activity Duration DL (ms)         148346 non-null float64\n",
      "Activity Duration UL (ms)         148346 non-null float64\n",
      "Handset Manufacturer              148346 non-null object\n",
      "Handset Type                      148346 non-null object\n",
      "Nb of sec with Vol DL < 6250B     148346 non-null float64\n",
      "Nb of sec with Vol UL < 1250B     148346 non-null float64\n",
      "Social Media DL (Bytes)           148346 non-null float64\n",
      "Social Media UL (Bytes)           148346 non-null float64\n",
      "Google DL (Bytes)                 148346 non-null float64\n",
      "Google UL (Bytes)                 148346 non-null float64\n",
      "Email DL (Bytes)                  148346 non-null float64\n",
      "Email UL (Bytes)                  148346 non-null float64\n",
      "Youtube DL (Bytes)                148346 non-null float64\n",
      "Youtube UL (Bytes)                148346 non-null float64\n",
      "Netflix DL (Bytes)                148346 non-null float64\n",
      "Netflix UL (Bytes)                148346 non-null float64\n",
      "Gaming DL (Bytes)                 148346 non-null float64\n",
      "Gaming UL (Bytes)                 148346 non-null float64\n",
      "Other DL (Bytes)                  148346 non-null float64\n",
      "Other UL (Bytes)                  148346 non-null float64\n",
      "Total UL (Bytes)                  148346 non-null float64\n",
      "Total DL (Bytes)                  148346 non-null float64\n",
      "dtypes: float64(39), int64(1), object(5)\n",
      "memory usage: 50.9+ MB\n"
     ]
    }
   ],
   "source": [
    "db.info()"
   ]
  },
  {
   "cell_type": "code",
   "execution_count": 10,
   "metadata": {},
   "outputs": [],
   "source": [
    "df = db"
   ]
  },
  {
   "cell_type": "code",
   "execution_count": 43,
   "metadata": {},
   "outputs": [
    {
     "name": "stdout",
     "output_type": "stream",
     "text": [
      "\n",
      "Number of unique values of handset types=> 1390\n"
     ]
    }
   ],
   "source": [
    "print('\\nNumber of unique values of handset types=> ' + str(len(df['Handset Type'].unique())))"
   ]
  },
  {
   "cell_type": "code",
   "execution_count": 44,
   "metadata": {},
   "outputs": [
    {
     "name": "stdout",
     "output_type": "stream",
     "text": [
      "\n",
      "Number of unique values of Handset Manufacturer=> 170\n"
     ]
    }
   ],
   "source": [
    "print('\\nNumber of unique values of Handset Manufacturer=> ' + str(len(df['Handset Manufacturer'].unique())))"
   ]
  },
  {
   "cell_type": "code",
   "execution_count": null,
   "metadata": {},
   "outputs": [],
   "source": [
    "print('\\nNumber of unique values of Handset Manufacturer=> ' + str(len(df['Handset Manufacturer'].unique().sort_values(ascending=True)[0])))"
   ]
  },
  {
   "cell_type": "code",
   "execution_count": 59,
   "metadata": {},
   "outputs": [
    {
     "name": "stdout",
     "output_type": "stream",
     "text": [
      "\n",
      "Unique values are => Handset Manufacturer\n",
      "\n",
      "Apple      59304\n",
      "Samsung    40393\n",
      "Huawei     34269\n",
      "Name: Handset Manufacturer, dtype: int64\n"
     ]
    }
   ],
   "source": [
    "print('\\nUnique values are => Handset Manufacturer\\n\\n' + str(pd.Series(df['Handset Manufacturer'].value_counts()).head()[0:3]))"
   ]
  },
  {
   "cell_type": "code",
   "execution_count": 36,
   "metadata": {},
   "outputs": [
    {
     "name": "stdout",
     "output_type": "stream",
     "text": [
      "\n",
      "Frequency distribution of unique values => \n",
      "\n",
      "Huawei B528S-23A                             19724\n",
      "Apple iPhone 6S (A1688)                       9391\n",
      "Apple iPhone 6 (A1586)                        8991\n",
      "undefined                                     8892\n",
      "Apple iPhone 7 (A1778)                        6274\n",
      "                                             ...  \n",
      "Samsung Galaxy S9 Sm-G960N                       1\n",
      "Samsung Galaxy Mobile (E.G. A3Lschi535)          1\n",
      "Option Nv Option Gtm661W Globesurfer Iii+        1\n",
      "Sony Ericsson Sk17I                              1\n",
      "Ovvi-Cellphone T. Echo                           1\n",
      "Name: Handset Type, Length: 1390, dtype: int64\n"
     ]
    }
   ],
   "source": [
    "print('\\nFrequency distribution of unique values => \\n\\n'+ str(df['Handset Type'].value_counts(dropna=False).sort_values(ascending = False)))"
   ]
  },
  {
   "cell_type": "code",
   "execution_count": 24,
   "metadata": {},
   "outputs": [
    {
     "data": {
      "text/plain": [
       "Huawei B528S-23A                19724\n",
       "Apple iPhone 6S (A1688)          9391\n",
       "Apple iPhone 6 (A1586)           8991\n",
       "undefined                        8892\n",
       "Apple iPhone 7 (A1778)           6274\n",
       "Apple iPhone Se (A1723)          5165\n",
       "Apple iPhone 8 (A1905)           4977\n",
       "Apple iPhone Xr (A2105)          4555\n",
       "Samsung Galaxy S8 (Sm-G950F)     4459\n",
       "Apple iPhone X (A1901)           3805\n",
       "Name: Handset Type, dtype: int64"
      ]
     },
     "execution_count": 24,
     "metadata": {},
     "output_type": "execute_result"
    }
   ],
   "source": [
    "df['Handset Type'].value_counts().head(10)"
   ]
  },
  {
   "cell_type": "code",
   "execution_count": 32,
   "metadata": {},
   "outputs": [
    {
     "data": {
      "text/plain": [
       "Apple      59304\n",
       "Samsung    40393\n",
       "Huawei     34269\n",
       "Name: Handset Manufacturer, dtype: int64"
      ]
     },
     "execution_count": 32,
     "metadata": {},
     "output_type": "execute_result"
    }
   ],
   "source": [
    "df['Handset Manufacturer'].value_counts().head(3)"
   ]
  },
  {
   "cell_type": "code",
   "execution_count": 65,
   "metadata": {},
   "outputs": [],
   "source": [
    "import seaborn as sns\n",
    "from matplotlib import pyplot as plt\n",
    "def plot_count(df:pd.DataFrame, column:str) -> None:\n",
    "    plt.figure(figsize=(12, 7))\n",
    "    sns.countplot(data=df, x=column)\n",
    "    plt.title(f'Distribution of {column}', size=20, fontweight='bold')\n",
    "    plt.show()"
   ]
  },
  {
   "cell_type": "code",
   "execution_count": 67,
   "metadata": {},
   "outputs": [
    {
     "data": {
      "image/png": "[encoded data removed]",
      "text/plain": [
       "<Figure size 864x504 with 1 Axes>"
      ]
     },
     "metadata": {
      "needs_background": "light"
     },
     "output_type": "display_data"
    }
   ],
   "source": [
    "plot_count(df2, \"Handset Manufacturer\")"
   ]
  },
  {
   "cell_type": "code",
   "execution_count": 30,
   "metadata": {},
   "outputs": [
    {
     "data": {
      "text/plain": [
       "Apple      59304\n",
       "Samsung    40393\n",
       "Huawei     34269\n",
       "Name: Handset Manufacturer, dtype: int64"
      ]
     },
     "execution_count": 30,
     "metadata": {},
     "output_type": "execute_result"
    }
   ],
   "source": [
    "a = [df['Handset Manufacturer'].value_counts().head(3) if df['Handset Manufacturer']\n",
    "a"
   ]
  },
  {
   "cell_type": "code",
   "execution_count": 61,
   "metadata": {},
   "outputs": [],
   "source": [
    "options = ['Apple', 'Samsung', 'Huawei']  \n",
    "df2 =df[df['Handset Manufacturer'].isin(options)]\n"
   ]
  },
  {
   "cell_type": "code",
   "execution_count": 62,
   "metadata": {},
   "outputs": [
    {
     "data": {
      "text/plain": [
       "Huawei B528S-23A           19724\n",
       "Apple iPhone 6S (A1688)     9391\n",
       "Apple iPhone 6 (A1586)      8991\n",
       "Apple iPhone 7 (A1778)      6274\n",
       "Apple iPhone Se (A1723)     5165\n",
       "Name: Handset Type, dtype: int64"
      ]
     },
     "execution_count": 62,
     "metadata": {},
     "output_type": "execute_result"
    }
   ],
   "source": [
    "df2['Handset Type'].value_counts().head(5)"
   ]
  },
  {
   "cell_type": "code",
   "execution_count": null,
   "metadata": {},
   "outputs": [],
   "source": []
  },
  {
   "cell_type": "markdown",
   "metadata": {},
   "source": [
    "- for our customers the dominating Handset manufactuers are Apple, Samsung, Huawei respectively\n",
    "- but for handset type Huawei B528S-23A"
   ]
  }
 ],
 "metadata": {
  "kernelspec": {
   "display_name": "Python 3",
   "language": "python",
   "name": "python3"
  },
  "language_info": {
   "codemirror_mode": {
    "name": "ipython",
    "version": 3
   },
   "file_extension": ".py",
   "mimetype": "text/x-python",
   "name": "python",
   "nbconvert_exporter": "python",
   "pygments_lexer": "ipython3",
   "version": "3.7.4"
  }
 },
 "nbformat": 4,
 "nbformat_minor": 2
}
